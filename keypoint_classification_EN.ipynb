{
  "cells": [
    {
      "cell_type": "code",
      "execution_count": 1,
      "metadata": {
        "id": "igMyGnjE9hEp"
      },
      "outputs": [
        {
          "name": "stderr",
          "output_type": "stream",
          "text": [
            "2023-05-02 02:04:08.924540: W tensorflow/stream_executor/platform/default/dso_loader.cc:64] Could not load dynamic library 'libcudart.so.11.0'; dlerror: libcudart.so.11.0: cannot open shared object file: No such file or directory\n",
            "2023-05-02 02:04:08.924559: I tensorflow/stream_executor/cuda/cudart_stub.cc:29] Ignore above cudart dlerror if you do not have a GPU set up on your machine.\n"
          ]
        }
      ],
      "source": [
        "import csv\n",
        "\n",
        "import numpy as np\n",
        "import tensorflow as tf\n",
        "from sklearn.model_selection import train_test_split\n",
        "\n",
        "RANDOM_SEED = 42"
      ]
    },
    {
      "cell_type": "markdown",
      "metadata": {
        "id": "t2HDvhIu9hEr"
      },
      "source": [
        "# Specify each path"
      ]
    },
    {
      "cell_type": "code",
      "execution_count": 2,
      "metadata": {
        "id": "9NvZP2Zn9hEy"
      },
      "outputs": [],
      "source": [
        "dataset = 'model/keypoint_classifier/keypoint1.csv'\n",
        "model_save_path = 'model/keypoint_classifier/keypoint_classifier.hdf5'\n",
        "tflite_save_path = 'model/keypoint_classifier/keypoint_classifier.tflite'"
      ]
    },
    {
      "cell_type": "markdown",
      "metadata": {
        "id": "s5oMH7x19hEz"
      },
      "source": [
        "# Set number of classes"
      ]
    },
    {
      "cell_type": "code",
      "execution_count": 3,
      "metadata": {
        "id": "du4kodXL9hEz"
      },
      "outputs": [],
      "source": [
        "NUM_CLASSES = 2"
      ]
    },
    {
      "cell_type": "markdown",
      "metadata": {
        "id": "XjnL0uso9hEz"
      },
      "source": [
        "# Dataset reading"
      ]
    },
    {
      "cell_type": "code",
      "execution_count": 4,
      "metadata": {
        "id": "QT5ZqtEz9hE0"
      },
      "outputs": [],
      "source": [
        "X_dataset = np.loadtxt(dataset, delimiter=',', dtype='float32', usecols=list(range(1, (21 * 2) + 1)))"
      ]
    },
    {
      "cell_type": "code",
      "execution_count": 5,
      "metadata": {
        "id": "QmoKFsp49hE0"
      },
      "outputs": [],
      "source": [
        "y_dataset = np.loadtxt(dataset, delimiter=',', dtype='int32', usecols=(0))"
      ]
    },
    {
      "cell_type": "code",
      "execution_count": 6,
      "metadata": {
        "id": "xQU7JTZ_9hE0"
      },
      "outputs": [],
      "source": [
        "X_train, X_test, y_train, y_test = train_test_split(X_dataset, y_dataset, train_size=0.75, random_state=RANDOM_SEED)"
      ]
    },
    {
      "cell_type": "markdown",
      "metadata": {
        "id": "mxK_lETT9hE0"
      },
      "source": [
        "# Model building"
      ]
    },
    {
      "cell_type": "code",
      "execution_count": 7,
      "metadata": {
        "id": "vHBmUf1t9hE1"
      },
      "outputs": [
        {
          "name": "stderr",
          "output_type": "stream",
          "text": [
            "2023-05-02 02:04:10.666521: W tensorflow/stream_executor/platform/default/dso_loader.cc:64] Could not load dynamic library 'libcuda.so.1'; dlerror: libcuda.so.1: cannot open shared object file: No such file or directory\n",
            "2023-05-02 02:04:10.666556: W tensorflow/stream_executor/cuda/cuda_driver.cc:269] failed call to cuInit: UNKNOWN ERROR (303)\n",
            "2023-05-02 02:04:10.666577: I tensorflow/stream_executor/cuda/cuda_diagnostics.cc:156] kernel driver does not appear to be running on this host (vostro-15): /proc/driver/nvidia/version does not exist\n",
            "2023-05-02 02:04:10.667065: I tensorflow/core/platform/cpu_feature_guard.cc:151] This TensorFlow binary is optimized with oneAPI Deep Neural Network Library (oneDNN) to use the following CPU instructions in performance-critical operations:  AVX2 AVX512F FMA\n",
            "To enable them in other operations, rebuild TensorFlow with the appropriate compiler flags.\n"
          ]
        }
      ],
      "source": [
        "model = tf.keras.models.Sequential([\n",
        "    tf.keras.layers.Input((21 * 2, )),\n",
        "    tf.keras.layers.Dropout(0.2),\n",
        "    tf.keras.layers.Dense(20, activation='relu'),\n",
        "    tf.keras.layers.Dropout(0.4),\n",
        "    tf.keras.layers.Dense(10, activation='relu'),\n",
        "    tf.keras.layers.Dense(NUM_CLASSES, activation='softmax')\n",
        "])"
      ]
    },
    {
      "cell_type": "code",
      "execution_count": 8,
      "metadata": {
        "colab": {
          "base_uri": "https://localhost:8080/"
        },
        "id": "ypqky9tc9hE1",
        "outputId": "5db082bb-30e3-4110-bf63-a1ee777ecd46"
      },
      "outputs": [
        {
          "name": "stdout",
          "output_type": "stream",
          "text": [
            "Model: \"sequential\"\n",
            "_________________________________________________________________\n",
            " Layer (type)                Output Shape              Param #   \n",
            "=================================================================\n",
            " dropout (Dropout)           (None, 42)                0         \n",
            "                                                                 \n",
            " dense (Dense)               (None, 20)                860       \n",
            "                                                                 \n",
            " dropout_1 (Dropout)         (None, 20)                0         \n",
            "                                                                 \n",
            " dense_1 (Dense)             (None, 10)                210       \n",
            "                                                                 \n",
            " dense_2 (Dense)             (None, 2)                 22        \n",
            "                                                                 \n",
            "=================================================================\n",
            "Total params: 1,092\n",
            "Trainable params: 1,092\n",
            "Non-trainable params: 0\n",
            "_________________________________________________________________\n"
          ]
        }
      ],
      "source": [
        "model.summary()  # tf.keras.utils.plot_model(model, show_shapes=True)"
      ]
    },
    {
      "cell_type": "code",
      "execution_count": 9,
      "metadata": {
        "id": "MbMjOflQ9hE1"
      },
      "outputs": [],
      "source": [
        "# Model checkpoint callback\n",
        "cp_callback = tf.keras.callbacks.ModelCheckpoint(\n",
        "    model_save_path, verbose=1, save_weights_only=False)\n",
        "# Callback for early stopping\n",
        "es_callback = tf.keras.callbacks.EarlyStopping(patience=20, verbose=1)"
      ]
    },
    {
      "cell_type": "code",
      "execution_count": 10,
      "metadata": {
        "id": "c3Dac0M_9hE2"
      },
      "outputs": [],
      "source": [
        "# Model compilation\n",
        "model.compile(\n",
        "    optimizer='adam',\n",
        "    loss='sparse_categorical_crossentropy',\n",
        "    metrics=['accuracy']\n",
        ")"
      ]
    },
    {
      "cell_type": "markdown",
      "metadata": {
        "id": "7XI0j1Iu9hE2"
      },
      "source": [
        "# Model training"
      ]
    },
    {
      "cell_type": "code",
      "execution_count": 11,
      "metadata": {
        "colab": {
          "base_uri": "https://localhost:8080/"
        },
        "id": "WirBl-JE9hE3",
        "outputId": "71b30ca2-8294-4d9d-8aa2-800d90d399de",
        "scrolled": true
      },
      "outputs": [
        {
          "name": "stdout",
          "output_type": "stream",
          "text": [
            "Epoch 1/1000\n",
            " 1/35 [..............................] - ETA: 13s - loss: 0.8067 - accuracy: 0.4844\n",
            "Epoch 1: saving model to model/keypoint_classifier/keypoint_classifier.hdf5\n",
            "35/35 [==============================] - 1s 5ms/step - loss: 0.7449 - accuracy: 0.5082 - val_loss: 0.6163 - val_accuracy: 0.6469\n",
            "Epoch 2/1000\n",
            " 1/35 [..............................] - ETA: 0s - loss: 0.6827 - accuracy: 0.5469\n",
            "Epoch 2: saving model to model/keypoint_classifier/keypoint_classifier.hdf5\n",
            "35/35 [==============================] - 0s 2ms/step - loss: 0.6407 - accuracy: 0.6329 - val_loss: 0.5521 - val_accuracy: 0.7837\n",
            "Epoch 3/1000\n",
            " 1/35 [..............................] - ETA: 0s - loss: 0.6400 - accuracy: 0.6562\n",
            "Epoch 3: saving model to model/keypoint_classifier/keypoint_classifier.hdf5\n",
            "35/35 [==============================] - 0s 2ms/step - loss: 0.5865 - accuracy: 0.7077 - val_loss: 0.4957 - val_accuracy: 0.7966\n",
            "Epoch 4/1000\n",
            " 1/35 [..............................] - ETA: 0s - loss: 0.5636 - accuracy: 0.7031\n",
            "Epoch 4: saving model to model/keypoint_classifier/keypoint_classifier.hdf5\n",
            "35/35 [==============================] - 0s 2ms/step - loss: 0.5449 - accuracy: 0.7311 - val_loss: 0.4498 - val_accuracy: 0.8395\n",
            "Epoch 5/1000\n",
            " 1/35 [..............................] - ETA: 0s - loss: 0.5578 - accuracy: 0.7031\n",
            "Epoch 5: saving model to model/keypoint_classifier/keypoint_classifier.hdf5\n",
            "35/35 [==============================] - 0s 2ms/step - loss: 0.5205 - accuracy: 0.7596 - val_loss: 0.4075 - val_accuracy: 0.8592\n",
            "Epoch 6/1000\n",
            " 1/35 [..............................] - ETA: 0s - loss: 0.4554 - accuracy: 0.7812\n",
            "Epoch 6: saving model to model/keypoint_classifier/keypoint_classifier.hdf5\n",
            "35/35 [==============================] - 0s 2ms/step - loss: 0.4859 - accuracy: 0.7757 - val_loss: 0.3699 - val_accuracy: 0.8850\n",
            "Epoch 7/1000\n",
            " 1/35 [..............................] - ETA: 0s - loss: 0.4469 - accuracy: 0.7812\n",
            "Epoch 7: saving model to model/keypoint_classifier/keypoint_classifier.hdf5\n",
            "35/35 [==============================] - 0s 2ms/step - loss: 0.4574 - accuracy: 0.8048 - val_loss: 0.3337 - val_accuracy: 0.9102\n",
            "Epoch 8/1000\n",
            " 1/35 [..............................] - ETA: 0s - loss: 0.4994 - accuracy: 0.7734\n",
            "Epoch 8: saving model to model/keypoint_classifier/keypoint_classifier.hdf5\n",
            "35/35 [==============================] - 0s 2ms/step - loss: 0.4314 - accuracy: 0.8079 - val_loss: 0.3045 - val_accuracy: 0.9156\n",
            "Epoch 9/1000\n",
            "19/35 [===============>..............] - ETA: 0s - loss: 0.4187 - accuracy: 0.8199\n",
            "Epoch 9: saving model to model/keypoint_classifier/keypoint_classifier.hdf5\n",
            "35/35 [==============================] - 0s 4ms/step - loss: 0.4101 - accuracy: 0.8283 - val_loss: 0.2802 - val_accuracy: 0.9245\n",
            "Epoch 10/1000\n",
            " 1/35 [..............................] - ETA: 0s - loss: 0.5423 - accuracy: 0.7578\n",
            "Epoch 10: saving model to model/keypoint_classifier/keypoint_classifier.hdf5\n",
            "35/35 [==============================] - 0s 2ms/step - loss: 0.4107 - accuracy: 0.8327 - val_loss: 0.2628 - val_accuracy: 0.9279\n",
            "Epoch 11/1000\n",
            " 1/35 [..............................] - ETA: 0s - loss: 0.4419 - accuracy: 0.8047\n",
            "Epoch 11: saving model to model/keypoint_classifier/keypoint_classifier.hdf5\n",
            "35/35 [==============================] - 0s 2ms/step - loss: 0.3836 - accuracy: 0.8451 - val_loss: 0.2454 - val_accuracy: 0.9347\n",
            "Epoch 12/1000\n",
            " 1/35 [..............................] - ETA: 0s - loss: 0.3535 - accuracy: 0.8594\n",
            "Epoch 12: saving model to model/keypoint_classifier/keypoint_classifier.hdf5\n",
            "35/35 [==============================] - 0s 2ms/step - loss: 0.3720 - accuracy: 0.8510 - val_loss: 0.2321 - val_accuracy: 0.9367\n",
            "Epoch 13/1000\n",
            " 1/35 [..............................] - ETA: 0s - loss: 0.3351 - accuracy: 0.8281\n",
            "Epoch 13: saving model to model/keypoint_classifier/keypoint_classifier.hdf5\n",
            "35/35 [==============================] - 0s 2ms/step - loss: 0.3599 - accuracy: 0.8565 - val_loss: 0.2198 - val_accuracy: 0.9415\n",
            "Epoch 14/1000\n",
            " 1/35 [..............................] - ETA: 0s - loss: 0.3264 - accuracy: 0.8594\n",
            "Epoch 14: saving model to model/keypoint_classifier/keypoint_classifier.hdf5\n",
            "35/35 [==============================] - 0s 2ms/step - loss: 0.3541 - accuracy: 0.8617 - val_loss: 0.2139 - val_accuracy: 0.9381\n",
            "Epoch 15/1000\n",
            " 1/35 [..............................] - ETA: 0s - loss: 0.3645 - accuracy: 0.8359\n",
            "Epoch 15: saving model to model/keypoint_classifier/keypoint_classifier.hdf5\n",
            "35/35 [==============================] - 0s 2ms/step - loss: 0.3409 - accuracy: 0.8669 - val_loss: 0.2076 - val_accuracy: 0.9374\n",
            "Epoch 16/1000\n",
            " 1/35 [..............................] - ETA: 0s - loss: 0.3458 - accuracy: 0.8438\n",
            "Epoch 16: saving model to model/keypoint_classifier/keypoint_classifier.hdf5\n",
            "35/35 [==============================] - 0s 2ms/step - loss: 0.3272 - accuracy: 0.8687 - val_loss: 0.2010 - val_accuracy: 0.9401\n",
            "Epoch 17/1000\n",
            " 1/35 [..............................] - ETA: 0s - loss: 0.3368 - accuracy: 0.8750\n",
            "Epoch 17: saving model to model/keypoint_classifier/keypoint_classifier.hdf5\n",
            "35/35 [==============================] - 0s 2ms/step - loss: 0.3212 - accuracy: 0.8730 - val_loss: 0.1948 - val_accuracy: 0.9408\n",
            "Epoch 18/1000\n",
            "34/35 [============================>.] - ETA: 0s - loss: 0.3112 - accuracy: 0.8814\n",
            "Epoch 18: saving model to model/keypoint_classifier/keypoint_classifier.hdf5\n",
            "35/35 [==============================] - 0s 3ms/step - loss: 0.3102 - accuracy: 0.8823 - val_loss: 0.1898 - val_accuracy: 0.9415\n",
            "Epoch 19/1000\n",
            "35/35 [==============================] - ETA: 0s - loss: 0.3031 - accuracy: 0.8810\n",
            "Epoch 19: saving model to model/keypoint_classifier/keypoint_classifier.hdf5\n",
            "35/35 [==============================] - 0s 3ms/step - loss: 0.3031 - accuracy: 0.8810 - val_loss: 0.1851 - val_accuracy: 0.9401\n",
            "Epoch 20/1000\n",
            " 1/35 [..............................] - ETA: 0s - loss: 0.2831 - accuracy: 0.8984\n",
            "Epoch 20: saving model to model/keypoint_classifier/keypoint_classifier.hdf5\n",
            "35/35 [==============================] - 0s 2ms/step - loss: 0.2963 - accuracy: 0.8816 - val_loss: 0.1776 - val_accuracy: 0.9456\n",
            "Epoch 21/1000\n",
            " 1/35 [..............................] - ETA: 0s - loss: 0.2920 - accuracy: 0.8906\n",
            "Epoch 21: saving model to model/keypoint_classifier/keypoint_classifier.hdf5\n",
            "35/35 [==============================] - 0s 2ms/step - loss: 0.3016 - accuracy: 0.8837 - val_loss: 0.1780 - val_accuracy: 0.9388\n",
            "Epoch 22/1000\n",
            " 1/35 [..............................] - ETA: 0s - loss: 0.2659 - accuracy: 0.8906\n",
            "Epoch 22: saving model to model/keypoint_classifier/keypoint_classifier.hdf5\n",
            "35/35 [==============================] - 0s 2ms/step - loss: 0.2835 - accuracy: 0.8891 - val_loss: 0.1736 - val_accuracy: 0.9469\n",
            "Epoch 23/1000\n",
            "33/35 [===========================>..] - ETA: 0s - loss: 0.2954 - accuracy: 0.8847\n",
            "Epoch 23: saving model to model/keypoint_classifier/keypoint_classifier.hdf5\n",
            "35/35 [==============================] - 0s 3ms/step - loss: 0.2937 - accuracy: 0.8846 - val_loss: 0.1730 - val_accuracy: 0.9463\n",
            "Epoch 24/1000\n",
            "29/35 [=======================>......] - ETA: 0s - loss: 0.2792 - accuracy: 0.8982\n",
            "Epoch 24: saving model to model/keypoint_classifier/keypoint_classifier.hdf5\n",
            "35/35 [==============================] - 0s 4ms/step - loss: 0.2811 - accuracy: 0.8959 - val_loss: 0.1699 - val_accuracy: 0.9456\n",
            "Epoch 25/1000\n",
            " 1/35 [..............................] - ETA: 0s - loss: 0.2474 - accuracy: 0.9062\n",
            "Epoch 25: saving model to model/keypoint_classifier/keypoint_classifier.hdf5\n",
            "35/35 [==============================] - 0s 2ms/step - loss: 0.2731 - accuracy: 0.8966 - val_loss: 0.1665 - val_accuracy: 0.9456\n",
            "Epoch 26/1000\n",
            " 1/35 [..............................] - ETA: 0s - loss: 0.3275 - accuracy: 0.8594\n",
            "Epoch 26: saving model to model/keypoint_classifier/keypoint_classifier.hdf5\n",
            "35/35 [==============================] - 0s 2ms/step - loss: 0.2661 - accuracy: 0.8964 - val_loss: 0.1611 - val_accuracy: 0.9456\n",
            "Epoch 27/1000\n",
            " 1/35 [..............................] - ETA: 0s - loss: 0.3012 - accuracy: 0.9141\n",
            "Epoch 27: saving model to model/keypoint_classifier/keypoint_classifier.hdf5\n",
            "35/35 [==============================] - 0s 2ms/step - loss: 0.2702 - accuracy: 0.8964 - val_loss: 0.1599 - val_accuracy: 0.9476\n",
            "Epoch 28/1000\n",
            " 1/35 [..............................] - ETA: 0s - loss: 0.2747 - accuracy: 0.8984\n",
            "Epoch 28: saving model to model/keypoint_classifier/keypoint_classifier.hdf5\n",
            "35/35 [==============================] - 0s 2ms/step - loss: 0.2707 - accuracy: 0.8959 - val_loss: 0.1591 - val_accuracy: 0.9469\n",
            "Epoch 29/1000\n",
            " 1/35 [..............................] - ETA: 0s - loss: 0.2742 - accuracy: 0.8906\n",
            "Epoch 29: saving model to model/keypoint_classifier/keypoint_classifier.hdf5\n",
            "35/35 [==============================] - 0s 2ms/step - loss: 0.2726 - accuracy: 0.8980 - val_loss: 0.1568 - val_accuracy: 0.9476\n",
            "Epoch 30/1000\n",
            " 1/35 [..............................] - ETA: 0s - loss: 0.2248 - accuracy: 0.9297\n",
            "Epoch 30: saving model to model/keypoint_classifier/keypoint_classifier.hdf5\n",
            "35/35 [==============================] - 0s 2ms/step - loss: 0.2740 - accuracy: 0.8964 - val_loss: 0.1571 - val_accuracy: 0.9463\n",
            "Epoch 31/1000\n",
            " 1/35 [..............................] - ETA: 0s - loss: 0.2501 - accuracy: 0.8828\n",
            "Epoch 31: saving model to model/keypoint_classifier/keypoint_classifier.hdf5\n",
            "35/35 [==============================] - 0s 2ms/step - loss: 0.2656 - accuracy: 0.8941 - val_loss: 0.1565 - val_accuracy: 0.9469\n",
            "Epoch 32/1000\n",
            " 1/35 [..............................] - ETA: 0s - loss: 0.3115 - accuracy: 0.8594\n",
            "Epoch 32: saving model to model/keypoint_classifier/keypoint_classifier.hdf5\n",
            "35/35 [==============================] - 0s 2ms/step - loss: 0.2676 - accuracy: 0.9000 - val_loss: 0.1556 - val_accuracy: 0.9469\n",
            "Epoch 33/1000\n",
            " 1/35 [..............................] - ETA: 0s - loss: 0.3203 - accuracy: 0.8906\n",
            "Epoch 33: saving model to model/keypoint_classifier/keypoint_classifier.hdf5\n",
            "35/35 [==============================] - 0s 2ms/step - loss: 0.2527 - accuracy: 0.9039 - val_loss: 0.1513 - val_accuracy: 0.9483\n",
            "Epoch 34/1000\n",
            " 1/35 [..............................] - ETA: 0s - loss: 0.2802 - accuracy: 0.8984\n",
            "Epoch 34: saving model to model/keypoint_classifier/keypoint_classifier.hdf5\n",
            "35/35 [==============================] - 0s 2ms/step - loss: 0.2573 - accuracy: 0.9029 - val_loss: 0.1480 - val_accuracy: 0.9483\n",
            "Epoch 35/1000\n",
            " 1/35 [..............................] - ETA: 0s - loss: 0.2245 - accuracy: 0.9219\n",
            "Epoch 35: saving model to model/keypoint_classifier/keypoint_classifier.hdf5\n",
            "35/35 [==============================] - 0s 2ms/step - loss: 0.2400 - accuracy: 0.9084 - val_loss: 0.1475 - val_accuracy: 0.9463\n",
            "Epoch 36/1000\n",
            " 1/35 [..............................] - ETA: 0s - loss: 0.3739 - accuracy: 0.8594\n",
            "Epoch 36: saving model to model/keypoint_classifier/keypoint_classifier.hdf5\n",
            "35/35 [==============================] - 0s 2ms/step - loss: 0.2473 - accuracy: 0.9041 - val_loss: 0.1455 - val_accuracy: 0.9456\n",
            "Epoch 37/1000\n",
            " 1/35 [..............................] - ETA: 0s - loss: 0.1838 - accuracy: 0.9141\n",
            "Epoch 37: saving model to model/keypoint_classifier/keypoint_classifier.hdf5\n",
            "35/35 [==============================] - 0s 2ms/step - loss: 0.2555 - accuracy: 0.9018 - val_loss: 0.1431 - val_accuracy: 0.9469\n",
            "Epoch 38/1000\n",
            " 1/35 [..............................] - ETA: 0s - loss: 0.2355 - accuracy: 0.9219\n",
            "Epoch 38: saving model to model/keypoint_classifier/keypoint_classifier.hdf5\n",
            "35/35 [==============================] - 0s 2ms/step - loss: 0.2409 - accuracy: 0.9079 - val_loss: 0.1405 - val_accuracy: 0.9463\n",
            "Epoch 39/1000\n",
            " 1/35 [..............................] - ETA: 0s - loss: 0.1934 - accuracy: 0.9453\n",
            "Epoch 39: saving model to model/keypoint_classifier/keypoint_classifier.hdf5\n",
            "35/35 [==============================] - 0s 2ms/step - loss: 0.2431 - accuracy: 0.9120 - val_loss: 0.1405 - val_accuracy: 0.9463\n",
            "Epoch 40/1000\n",
            " 1/35 [..............................] - ETA: 0s - loss: 0.2517 - accuracy: 0.8906\n",
            "Epoch 40: saving model to model/keypoint_classifier/keypoint_classifier.hdf5\n",
            "35/35 [==============================] - 0s 2ms/step - loss: 0.2481 - accuracy: 0.9036 - val_loss: 0.1396 - val_accuracy: 0.9490\n",
            "Epoch 41/1000\n",
            " 1/35 [..............................] - ETA: 0s - loss: 0.2174 - accuracy: 0.9141\n",
            "Epoch 41: saving model to model/keypoint_classifier/keypoint_classifier.hdf5\n",
            "35/35 [==============================] - 0s 2ms/step - loss: 0.2447 - accuracy: 0.9054 - val_loss: 0.1429 - val_accuracy: 0.9483\n",
            "Epoch 42/1000\n",
            "33/35 [===========================>..] - ETA: 0s - loss: 0.2523 - accuracy: 0.9008\n",
            "Epoch 42: saving model to model/keypoint_classifier/keypoint_classifier.hdf5\n",
            "35/35 [==============================] - 0s 3ms/step - loss: 0.2511 - accuracy: 0.9016 - val_loss: 0.1419 - val_accuracy: 0.9463\n",
            "Epoch 43/1000\n",
            " 1/35 [..............................] - ETA: 0s - loss: 0.2293 - accuracy: 0.9375\n",
            "Epoch 43: saving model to model/keypoint_classifier/keypoint_classifier.hdf5\n",
            "35/35 [==============================] - 0s 3ms/step - loss: 0.2376 - accuracy: 0.9104 - val_loss: 0.1373 - val_accuracy: 0.9469\n",
            "Epoch 44/1000\n",
            " 1/35 [..............................] - ETA: 0s - loss: 0.1903 - accuracy: 0.9062\n",
            "Epoch 44: saving model to model/keypoint_classifier/keypoint_classifier.hdf5\n",
            "35/35 [==============================] - 0s 3ms/step - loss: 0.2370 - accuracy: 0.9075 - val_loss: 0.1371 - val_accuracy: 0.9483\n",
            "Epoch 45/1000\n",
            "35/35 [==============================] - ETA: 0s - loss: 0.2341 - accuracy: 0.9166\n",
            "Epoch 45: saving model to model/keypoint_classifier/keypoint_classifier.hdf5\n",
            "35/35 [==============================] - 0s 3ms/step - loss: 0.2341 - accuracy: 0.9166 - val_loss: 0.1347 - val_accuracy: 0.9476\n",
            "Epoch 46/1000\n",
            " 1/35 [..............................] - ETA: 0s - loss: 0.2572 - accuracy: 0.9141\n",
            "Epoch 46: saving model to model/keypoint_classifier/keypoint_classifier.hdf5\n",
            "35/35 [==============================] - 0s 2ms/step - loss: 0.2420 - accuracy: 0.9086 - val_loss: 0.1359 - val_accuracy: 0.9490\n",
            "Epoch 47/1000\n",
            " 1/35 [..............................] - ETA: 0s - loss: 0.2119 - accuracy: 0.9375\n",
            "Epoch 47: saving model to model/keypoint_classifier/keypoint_classifier.hdf5\n",
            "35/35 [==============================] - 0s 2ms/step - loss: 0.2421 - accuracy: 0.9088 - val_loss: 0.1366 - val_accuracy: 0.9483\n",
            "Epoch 48/1000\n",
            " 1/35 [..............................] - ETA: 0s - loss: 0.2047 - accuracy: 0.9297\n",
            "Epoch 48: saving model to model/keypoint_classifier/keypoint_classifier.hdf5\n",
            "35/35 [==============================] - 0s 2ms/step - loss: 0.2294 - accuracy: 0.9136 - val_loss: 0.1340 - val_accuracy: 0.9483\n",
            "Epoch 49/1000\n",
            " 1/35 [..............................] - ETA: 0s - loss: 0.2634 - accuracy: 0.9141\n",
            "Epoch 49: saving model to model/keypoint_classifier/keypoint_classifier.hdf5\n",
            "35/35 [==============================] - 0s 3ms/step - loss: 0.2464 - accuracy: 0.9032 - val_loss: 0.1349 - val_accuracy: 0.9476\n",
            "Epoch 50/1000\n",
            "31/35 [=========================>....] - ETA: 0s - loss: 0.2499 - accuracy: 0.9052\n",
            "Epoch 50: saving model to model/keypoint_classifier/keypoint_classifier.hdf5\n",
            "35/35 [==============================] - 0s 3ms/step - loss: 0.2484 - accuracy: 0.9059 - val_loss: 0.1358 - val_accuracy: 0.9476\n",
            "Epoch 51/1000\n",
            " 1/35 [..............................] - ETA: 0s - loss: 0.2952 - accuracy: 0.8750\n",
            "Epoch 51: saving model to model/keypoint_classifier/keypoint_classifier.hdf5\n",
            "35/35 [==============================] - 0s 2ms/step - loss: 0.2271 - accuracy: 0.9147 - val_loss: 0.1322 - val_accuracy: 0.9483\n",
            "Epoch 52/1000\n",
            " 1/35 [..............................] - ETA: 0s - loss: 0.1765 - accuracy: 0.9531\n",
            "Epoch 52: saving model to model/keypoint_classifier/keypoint_classifier.hdf5\n",
            "35/35 [==============================] - 0s 2ms/step - loss: 0.2207 - accuracy: 0.9193 - val_loss: 0.1341 - val_accuracy: 0.9483\n",
            "Epoch 53/1000\n",
            "35/35 [==============================] - ETA: 0s - loss: 0.2282 - accuracy: 0.9113\n",
            "Epoch 53: saving model to model/keypoint_classifier/keypoint_classifier.hdf5\n",
            "35/35 [==============================] - 0s 4ms/step - loss: 0.2282 - accuracy: 0.9113 - val_loss: 0.1326 - val_accuracy: 0.9510\n",
            "Epoch 54/1000\n",
            "29/35 [=======================>......] - ETA: 0s - loss: 0.2393 - accuracy: 0.9079\n",
            "Epoch 54: saving model to model/keypoint_classifier/keypoint_classifier.hdf5\n",
            "35/35 [==============================] - 0s 3ms/step - loss: 0.2323 - accuracy: 0.9120 - val_loss: 0.1314 - val_accuracy: 0.9490\n",
            "Epoch 55/1000\n",
            "35/35 [==============================] - ETA: 0s - loss: 0.2368 - accuracy: 0.9088\n",
            "Epoch 55: saving model to model/keypoint_classifier/keypoint_classifier.hdf5\n",
            "35/35 [==============================] - 0s 3ms/step - loss: 0.2368 - accuracy: 0.9088 - val_loss: 0.1323 - val_accuracy: 0.9490\n",
            "Epoch 56/1000\n",
            " 1/35 [..............................] - ETA: 0s - loss: 0.2090 - accuracy: 0.9297\n",
            "Epoch 56: saving model to model/keypoint_classifier/keypoint_classifier.hdf5\n",
            "35/35 [==============================] - 0s 2ms/step - loss: 0.2338 - accuracy: 0.9154 - val_loss: 0.1283 - val_accuracy: 0.9490\n",
            "Epoch 57/1000\n",
            " 1/35 [..............................] - ETA: 0s - loss: 0.2046 - accuracy: 0.9219\n",
            "Epoch 57: saving model to model/keypoint_classifier/keypoint_classifier.hdf5\n",
            "35/35 [==============================] - 0s 2ms/step - loss: 0.2291 - accuracy: 0.9132 - val_loss: 0.1300 - val_accuracy: 0.9483\n",
            "Epoch 58/1000\n",
            " 1/35 [..............................] - ETA: 0s - loss: 0.1871 - accuracy: 0.9375\n",
            "Epoch 58: saving model to model/keypoint_classifier/keypoint_classifier.hdf5\n",
            "35/35 [==============================] - 0s 2ms/step - loss: 0.2282 - accuracy: 0.9150 - val_loss: 0.1291 - val_accuracy: 0.9463\n",
            "Epoch 59/1000\n",
            " 1/35 [..............................] - ETA: 0s - loss: 0.1945 - accuracy: 0.9297\n",
            "Epoch 59: saving model to model/keypoint_classifier/keypoint_classifier.hdf5\n",
            "35/35 [==============================] - 0s 2ms/step - loss: 0.2384 - accuracy: 0.9109 - val_loss: 0.1303 - val_accuracy: 0.9469\n",
            "Epoch 60/1000\n",
            " 1/35 [..............................] - ETA: 0s - loss: 0.2239 - accuracy: 0.9375\n",
            "Epoch 60: saving model to model/keypoint_classifier/keypoint_classifier.hdf5\n",
            "35/35 [==============================] - 0s 2ms/step - loss: 0.2313 - accuracy: 0.9122 - val_loss: 0.1286 - val_accuracy: 0.9476\n",
            "Epoch 61/1000\n",
            " 1/35 [..............................] - ETA: 0s - loss: 0.2293 - accuracy: 0.8984\n",
            "Epoch 61: saving model to model/keypoint_classifier/keypoint_classifier.hdf5\n",
            "35/35 [==============================] - 0s 2ms/step - loss: 0.2293 - accuracy: 0.9163 - val_loss: 0.1272 - val_accuracy: 0.9469\n",
            "Epoch 62/1000\n",
            " 1/35 [..............................] - ETA: 0s - loss: 0.2049 - accuracy: 0.9062\n",
            "Epoch 62: saving model to model/keypoint_classifier/keypoint_classifier.hdf5\n",
            "35/35 [==============================] - 0s 2ms/step - loss: 0.2243 - accuracy: 0.9116 - val_loss: 0.1265 - val_accuracy: 0.9476\n",
            "Epoch 63/1000\n",
            " 1/35 [..............................] - ETA: 0s - loss: 0.2136 - accuracy: 0.9453\n",
            "Epoch 63: saving model to model/keypoint_classifier/keypoint_classifier.hdf5\n",
            "35/35 [==============================] - 0s 2ms/step - loss: 0.2259 - accuracy: 0.9159 - val_loss: 0.1268 - val_accuracy: 0.9476\n",
            "Epoch 64/1000\n",
            " 1/35 [..............................] - ETA: 0s - loss: 0.2528 - accuracy: 0.9141\n",
            "Epoch 64: saving model to model/keypoint_classifier/keypoint_classifier.hdf5\n",
            "35/35 [==============================] - 0s 2ms/step - loss: 0.2274 - accuracy: 0.9134 - val_loss: 0.1265 - val_accuracy: 0.9463\n",
            "Epoch 65/1000\n",
            "32/35 [==========================>...] - ETA: 0s - loss: 0.2257 - accuracy: 0.9192\n",
            "Epoch 65: saving model to model/keypoint_classifier/keypoint_classifier.hdf5\n",
            "35/35 [==============================] - 0s 3ms/step - loss: 0.2292 - accuracy: 0.9172 - val_loss: 0.1264 - val_accuracy: 0.9476\n",
            "Epoch 66/1000\n",
            " 1/35 [..............................] - ETA: 0s - loss: 0.2229 - accuracy: 0.9219\n",
            "Epoch 66: saving model to model/keypoint_classifier/keypoint_classifier.hdf5\n",
            "35/35 [==============================] - 0s 2ms/step - loss: 0.2116 - accuracy: 0.9218 - val_loss: 0.1252 - val_accuracy: 0.9449\n",
            "Epoch 67/1000\n",
            " 1/35 [..............................] - ETA: 0s - loss: 0.2713 - accuracy: 0.9141\n",
            "Epoch 67: saving model to model/keypoint_classifier/keypoint_classifier.hdf5\n",
            "35/35 [==============================] - 0s 3ms/step - loss: 0.2229 - accuracy: 0.9197 - val_loss: 0.1248 - val_accuracy: 0.9469\n",
            "Epoch 68/1000\n",
            "32/35 [==========================>...] - ETA: 0s - loss: 0.2255 - accuracy: 0.9119\n",
            "Epoch 68: saving model to model/keypoint_classifier/keypoint_classifier.hdf5\n",
            "35/35 [==============================] - 0s 3ms/step - loss: 0.2260 - accuracy: 0.9122 - val_loss: 0.1224 - val_accuracy: 0.9483\n",
            "Epoch 69/1000\n",
            " 1/35 [..............................] - ETA: 0s - loss: 0.1955 - accuracy: 0.9219\n",
            "Epoch 69: saving model to model/keypoint_classifier/keypoint_classifier.hdf5\n",
            "35/35 [==============================] - 0s 4ms/step - loss: 0.2233 - accuracy: 0.9154 - val_loss: 0.1242 - val_accuracy: 0.9483\n",
            "Epoch 70/1000\n",
            "27/35 [======================>.......] - ETA: 0s - loss: 0.2183 - accuracy: 0.9187\n",
            "Epoch 70: saving model to model/keypoint_classifier/keypoint_classifier.hdf5\n",
            "35/35 [==============================] - 0s 3ms/step - loss: 0.2173 - accuracy: 0.9190 - val_loss: 0.1213 - val_accuracy: 0.9490\n",
            "Epoch 71/1000\n",
            " 1/35 [..............................] - ETA: 0s - loss: 0.2378 - accuracy: 0.9219\n",
            "Epoch 71: saving model to model/keypoint_classifier/keypoint_classifier.hdf5\n",
            "35/35 [==============================] - 0s 3ms/step - loss: 0.2191 - accuracy: 0.9161 - val_loss: 0.1205 - val_accuracy: 0.9490\n",
            "Epoch 72/1000\n",
            "35/35 [==============================] - ETA: 0s - loss: 0.2299 - accuracy: 0.9134\n",
            "Epoch 72: saving model to model/keypoint_classifier/keypoint_classifier.hdf5\n",
            "35/35 [==============================] - 0s 3ms/step - loss: 0.2299 - accuracy: 0.9134 - val_loss: 0.1218 - val_accuracy: 0.9497\n",
            "Epoch 73/1000\n",
            " 1/35 [..............................] - ETA: 0s - loss: 0.1871 - accuracy: 0.9453\n",
            "Epoch 73: saving model to model/keypoint_classifier/keypoint_classifier.hdf5\n",
            "35/35 [==============================] - 0s 2ms/step - loss: 0.2196 - accuracy: 0.9161 - val_loss: 0.1200 - val_accuracy: 0.9497\n",
            "Epoch 74/1000\n",
            "34/35 [============================>.] - ETA: 0s - loss: 0.2173 - accuracy: 0.9210\n",
            "Epoch 74: saving model to model/keypoint_classifier/keypoint_classifier.hdf5\n",
            "35/35 [==============================] - 0s 3ms/step - loss: 0.2167 - accuracy: 0.9209 - val_loss: 0.1212 - val_accuracy: 0.9490\n",
            "Epoch 75/1000\n",
            "35/35 [==============================] - ETA: 0s - loss: 0.2178 - accuracy: 0.9170\n",
            "Epoch 75: saving model to model/keypoint_classifier/keypoint_classifier.hdf5\n",
            "35/35 [==============================] - 0s 3ms/step - loss: 0.2178 - accuracy: 0.9170 - val_loss: 0.1225 - val_accuracy: 0.9497\n",
            "Epoch 76/1000\n",
            "34/35 [============================>.] - ETA: 0s - loss: 0.2236 - accuracy: 0.9115\n",
            "Epoch 76: saving model to model/keypoint_classifier/keypoint_classifier.hdf5\n",
            "35/35 [==============================] - 0s 3ms/step - loss: 0.2234 - accuracy: 0.9122 - val_loss: 0.1221 - val_accuracy: 0.9490\n",
            "Epoch 77/1000\n",
            "32/35 [==========================>...] - ETA: 0s - loss: 0.2144 - accuracy: 0.9199\n",
            "Epoch 77: saving model to model/keypoint_classifier/keypoint_classifier.hdf5\n",
            "35/35 [==============================] - 0s 3ms/step - loss: 0.2123 - accuracy: 0.9215 - val_loss: 0.1211 - val_accuracy: 0.9490\n",
            "Epoch 78/1000\n",
            "22/35 [=================>............] - ETA: 0s - loss: 0.2172 - accuracy: 0.9180\n",
            "Epoch 78: saving model to model/keypoint_classifier/keypoint_classifier.hdf5\n",
            "35/35 [==============================] - 0s 4ms/step - loss: 0.2228 - accuracy: 0.9152 - val_loss: 0.1199 - val_accuracy: 0.9490\n",
            "Epoch 79/1000\n",
            " 1/35 [..............................] - ETA: 0s - loss: 0.3092 - accuracy: 0.8906\n",
            "Epoch 79: saving model to model/keypoint_classifier/keypoint_classifier.hdf5\n",
            "35/35 [==============================] - 0s 3ms/step - loss: 0.2301 - accuracy: 0.9125 - val_loss: 0.1215 - val_accuracy: 0.9490\n",
            "Epoch 80/1000\n",
            "35/35 [==============================] - ETA: 0s - loss: 0.2209 - accuracy: 0.9156\n",
            "Epoch 80: saving model to model/keypoint_classifier/keypoint_classifier.hdf5\n",
            "35/35 [==============================] - 0s 3ms/step - loss: 0.2209 - accuracy: 0.9156 - val_loss: 0.1206 - val_accuracy: 0.9483\n",
            "Epoch 81/1000\n",
            " 1/35 [..............................] - ETA: 0s - loss: 0.2474 - accuracy: 0.9062\n",
            "Epoch 81: saving model to model/keypoint_classifier/keypoint_classifier.hdf5\n",
            "35/35 [==============================] - 0s 2ms/step - loss: 0.2312 - accuracy: 0.9107 - val_loss: 0.1228 - val_accuracy: 0.9469\n",
            "Epoch 82/1000\n",
            "32/35 [==========================>...] - ETA: 0s - loss: 0.2230 - accuracy: 0.9197\n",
            "Epoch 82: saving model to model/keypoint_classifier/keypoint_classifier.hdf5\n",
            "35/35 [==============================] - 0s 3ms/step - loss: 0.2285 - accuracy: 0.9170 - val_loss: 0.1216 - val_accuracy: 0.9483\n",
            "Epoch 83/1000\n",
            "35/35 [==============================] - ETA: 0s - loss: 0.2204 - accuracy: 0.9190\n",
            "Epoch 83: saving model to model/keypoint_classifier/keypoint_classifier.hdf5\n",
            "35/35 [==============================] - 0s 3ms/step - loss: 0.2204 - accuracy: 0.9190 - val_loss: 0.1216 - val_accuracy: 0.9483\n",
            "Epoch 84/1000\n",
            "29/35 [=======================>......] - ETA: 0s - loss: 0.2343 - accuracy: 0.9122\n",
            "Epoch 84: saving model to model/keypoint_classifier/keypoint_classifier.hdf5\n",
            "35/35 [==============================] - 0s 3ms/step - loss: 0.2321 - accuracy: 0.9127 - val_loss: 0.1222 - val_accuracy: 0.9476\n",
            "Epoch 85/1000\n",
            "24/35 [===================>..........] - ETA: 0s - loss: 0.2138 - accuracy: 0.9199\n",
            "Epoch 85: saving model to model/keypoint_classifier/keypoint_classifier.hdf5\n",
            "35/35 [==============================] - 0s 4ms/step - loss: 0.2122 - accuracy: 0.9197 - val_loss: 0.1208 - val_accuracy: 0.9490\n",
            "Epoch 86/1000\n",
            "31/35 [=========================>....] - ETA: 0s - loss: 0.2154 - accuracy: 0.9191\n",
            "Epoch 86: saving model to model/keypoint_classifier/keypoint_classifier.hdf5\n",
            "35/35 [==============================] - 0s 3ms/step - loss: 0.2172 - accuracy: 0.9172 - val_loss: 0.1200 - val_accuracy: 0.9490\n",
            "Epoch 87/1000\n",
            "33/35 [===========================>..] - ETA: 0s - loss: 0.2049 - accuracy: 0.9242\n",
            "Epoch 87: saving model to model/keypoint_classifier/keypoint_classifier.hdf5\n",
            "35/35 [==============================] - 0s 3ms/step - loss: 0.2059 - accuracy: 0.9245 - val_loss: 0.1207 - val_accuracy: 0.9483\n",
            "Epoch 88/1000\n",
            " 1/35 [..............................] - ETA: 0s - loss: 0.2361 - accuracy: 0.9141\n",
            "Epoch 88: saving model to model/keypoint_classifier/keypoint_classifier.hdf5\n",
            "35/35 [==============================] - 0s 2ms/step - loss: 0.2152 - accuracy: 0.9190 - val_loss: 0.1200 - val_accuracy: 0.9483\n",
            "Epoch 89/1000\n",
            "34/35 [============================>.] - ETA: 0s - loss: 0.2053 - accuracy: 0.9253\n",
            "Epoch 89: saving model to model/keypoint_classifier/keypoint_classifier.hdf5\n",
            "35/35 [==============================] - 0s 3ms/step - loss: 0.2055 - accuracy: 0.9256 - val_loss: 0.1193 - val_accuracy: 0.9490\n",
            "Epoch 90/1000\n",
            "31/35 [=========================>....] - ETA: 0s - loss: 0.2182 - accuracy: 0.9206\n",
            "Epoch 90: saving model to model/keypoint_classifier/keypoint_classifier.hdf5\n",
            "35/35 [==============================] - 0s 3ms/step - loss: 0.2142 - accuracy: 0.9218 - val_loss: 0.1201 - val_accuracy: 0.9476\n",
            "Epoch 91/1000\n",
            " 1/35 [..............................] - ETA: 0s - loss: 0.2817 - accuracy: 0.8750\n",
            "Epoch 91: saving model to model/keypoint_classifier/keypoint_classifier.hdf5\n",
            "35/35 [==============================] - 0s 2ms/step - loss: 0.2186 - accuracy: 0.9147 - val_loss: 0.1188 - val_accuracy: 0.9483\n",
            "Epoch 92/1000\n",
            "31/35 [=========================>....] - ETA: 0s - loss: 0.2150 - accuracy: 0.9204\n",
            "Epoch 92: saving model to model/keypoint_classifier/keypoint_classifier.hdf5\n",
            "35/35 [==============================] - 0s 3ms/step - loss: 0.2140 - accuracy: 0.9209 - val_loss: 0.1216 - val_accuracy: 0.9483\n",
            "Epoch 93/1000\n",
            "29/35 [=======================>......] - ETA: 0s - loss: 0.2144 - accuracy: 0.9216\n",
            "Epoch 93: saving model to model/keypoint_classifier/keypoint_classifier.hdf5\n",
            "35/35 [==============================] - 0s 3ms/step - loss: 0.2094 - accuracy: 0.9238 - val_loss: 0.1188 - val_accuracy: 0.9476\n",
            "Epoch 94/1000\n",
            "33/35 [===========================>..] - ETA: 0s - loss: 0.2134 - accuracy: 0.9216\n",
            "Epoch 94: saving model to model/keypoint_classifier/keypoint_classifier.hdf5\n",
            "35/35 [==============================] - 0s 3ms/step - loss: 0.2139 - accuracy: 0.9213 - val_loss: 0.1177 - val_accuracy: 0.9490\n",
            "Epoch 95/1000\n",
            "35/35 [==============================] - ETA: 0s - loss: 0.2120 - accuracy: 0.9177\n",
            "Epoch 95: saving model to model/keypoint_classifier/keypoint_classifier.hdf5\n",
            "35/35 [==============================] - 0s 3ms/step - loss: 0.2120 - accuracy: 0.9177 - val_loss: 0.1190 - val_accuracy: 0.9476\n",
            "Epoch 96/1000\n",
            "35/35 [==============================] - ETA: 0s - loss: 0.2160 - accuracy: 0.9193\n",
            "Epoch 96: saving model to model/keypoint_classifier/keypoint_classifier.hdf5\n",
            "35/35 [==============================] - 0s 3ms/step - loss: 0.2160 - accuracy: 0.9193 - val_loss: 0.1208 - val_accuracy: 0.9476\n",
            "Epoch 97/1000\n",
            "28/35 [=======================>......] - ETA: 0s - loss: 0.2124 - accuracy: 0.9196\n",
            "Epoch 97: saving model to model/keypoint_classifier/keypoint_classifier.hdf5\n",
            "35/35 [==============================] - 0s 3ms/step - loss: 0.2130 - accuracy: 0.9202 - val_loss: 0.1192 - val_accuracy: 0.9469\n",
            "Epoch 98/1000\n",
            "35/35 [==============================] - ETA: 0s - loss: 0.2078 - accuracy: 0.9211\n",
            "Epoch 98: saving model to model/keypoint_classifier/keypoint_classifier.hdf5\n",
            "35/35 [==============================] - 0s 3ms/step - loss: 0.2078 - accuracy: 0.9211 - val_loss: 0.1183 - val_accuracy: 0.9483\n",
            "Epoch 99/1000\n",
            "35/35 [==============================] - ETA: 0s - loss: 0.2186 - accuracy: 0.9190\n",
            "Epoch 99: saving model to model/keypoint_classifier/keypoint_classifier.hdf5\n",
            "35/35 [==============================] - 0s 3ms/step - loss: 0.2186 - accuracy: 0.9190 - val_loss: 0.1197 - val_accuracy: 0.9476\n",
            "Epoch 100/1000\n",
            "35/35 [==============================] - ETA: 0s - loss: 0.2121 - accuracy: 0.9220\n",
            "Epoch 100: saving model to model/keypoint_classifier/keypoint_classifier.hdf5\n",
            "35/35 [==============================] - 0s 3ms/step - loss: 0.2121 - accuracy: 0.9220 - val_loss: 0.1181 - val_accuracy: 0.9476\n",
            "Epoch 101/1000\n",
            "33/35 [===========================>..] - ETA: 0s - loss: 0.2071 - accuracy: 0.9219\n",
            "Epoch 101: saving model to model/keypoint_classifier/keypoint_classifier.hdf5\n",
            "35/35 [==============================] - 0s 3ms/step - loss: 0.2077 - accuracy: 0.9218 - val_loss: 0.1158 - val_accuracy: 0.9469\n",
            "Epoch 102/1000\n",
            " 1/35 [..............................] - ETA: 0s - loss: 0.2570 - accuracy: 0.9375\n",
            "Epoch 102: saving model to model/keypoint_classifier/keypoint_classifier.hdf5\n",
            "35/35 [==============================] - 0s 2ms/step - loss: 0.2123 - accuracy: 0.9206 - val_loss: 0.1175 - val_accuracy: 0.9469\n",
            "Epoch 103/1000\n",
            " 1/35 [..............................] - ETA: 0s - loss: 0.1282 - accuracy: 0.9531\n",
            "Epoch 103: saving model to model/keypoint_classifier/keypoint_classifier.hdf5\n",
            "35/35 [==============================] - 0s 2ms/step - loss: 0.2115 - accuracy: 0.9204 - val_loss: 0.1171 - val_accuracy: 0.9469\n",
            "Epoch 104/1000\n",
            "33/35 [===========================>..] - ETA: 0s - loss: 0.2149 - accuracy: 0.9209\n",
            "Epoch 104: saving model to model/keypoint_classifier/keypoint_classifier.hdf5\n",
            "35/35 [==============================] - 0s 3ms/step - loss: 0.2141 - accuracy: 0.9211 - val_loss: 0.1136 - val_accuracy: 0.9517\n",
            "Epoch 105/1000\n",
            " 1/35 [..............................] - ETA: 0s - loss: 0.1673 - accuracy: 0.9375\n",
            "Epoch 105: saving model to model/keypoint_classifier/keypoint_classifier.hdf5\n",
            "35/35 [==============================] - 0s 3ms/step - loss: 0.1994 - accuracy: 0.9245 - val_loss: 0.1138 - val_accuracy: 0.9476\n",
            "Epoch 106/1000\n",
            "27/35 [======================>.......] - ETA: 0s - loss: 0.1990 - accuracy: 0.9230\n",
            "Epoch 106: saving model to model/keypoint_classifier/keypoint_classifier.hdf5\n",
            "35/35 [==============================] - 0s 4ms/step - loss: 0.2046 - accuracy: 0.9215 - val_loss: 0.1134 - val_accuracy: 0.9490\n",
            "Epoch 107/1000\n",
            "33/35 [===========================>..] - ETA: 0s - loss: 0.2037 - accuracy: 0.9245\n",
            "Epoch 107: saving model to model/keypoint_classifier/keypoint_classifier.hdf5\n",
            "35/35 [==============================] - 0s 3ms/step - loss: 0.2026 - accuracy: 0.9243 - val_loss: 0.1131 - val_accuracy: 0.9490\n",
            "Epoch 108/1000\n",
            " 1/35 [..............................] - ETA: 0s - loss: 0.2863 - accuracy: 0.9141\n",
            "Epoch 108: saving model to model/keypoint_classifier/keypoint_classifier.hdf5\n",
            "35/35 [==============================] - 0s 2ms/step - loss: 0.2045 - accuracy: 0.9215 - val_loss: 0.1133 - val_accuracy: 0.9531\n",
            "Epoch 109/1000\n",
            "30/35 [========================>.....] - ETA: 0s - loss: 0.2012 - accuracy: 0.9201\n",
            "Epoch 109: saving model to model/keypoint_classifier/keypoint_classifier.hdf5\n",
            "35/35 [==============================] - 0s 3ms/step - loss: 0.1979 - accuracy: 0.9213 - val_loss: 0.1122 - val_accuracy: 0.9497\n",
            "Epoch 110/1000\n",
            "32/35 [==========================>...] - ETA: 0s - loss: 0.2052 - accuracy: 0.9221\n",
            "Epoch 110: saving model to model/keypoint_classifier/keypoint_classifier.hdf5\n",
            "35/35 [==============================] - 0s 3ms/step - loss: 0.2050 - accuracy: 0.9220 - val_loss: 0.1134 - val_accuracy: 0.9483\n",
            "Epoch 111/1000\n",
            "35/35 [==============================] - ETA: 0s - loss: 0.2023 - accuracy: 0.9234\n",
            "Epoch 111: saving model to model/keypoint_classifier/keypoint_classifier.hdf5\n",
            "35/35 [==============================] - 0s 3ms/step - loss: 0.2023 - accuracy: 0.9234 - val_loss: 0.1132 - val_accuracy: 0.9483\n",
            "Epoch 112/1000\n",
            "34/35 [============================>.] - ETA: 0s - loss: 0.2178 - accuracy: 0.9193\n",
            "Epoch 112: saving model to model/keypoint_classifier/keypoint_classifier.hdf5\n",
            "35/35 [==============================] - 0s 3ms/step - loss: 0.2175 - accuracy: 0.9193 - val_loss: 0.1140 - val_accuracy: 0.9558\n",
            "Epoch 113/1000\n",
            "35/35 [==============================] - ETA: 0s - loss: 0.2046 - accuracy: 0.9227\n",
            "Epoch 113: saving model to model/keypoint_classifier/keypoint_classifier.hdf5\n",
            "35/35 [==============================] - 0s 3ms/step - loss: 0.2046 - accuracy: 0.9227 - val_loss: 0.1137 - val_accuracy: 0.9476\n",
            "Epoch 114/1000\n",
            " 1/35 [..............................] - ETA: 0s - loss: 0.1407 - accuracy: 0.9531\n",
            "Epoch 114: saving model to model/keypoint_classifier/keypoint_classifier.hdf5\n",
            "35/35 [==============================] - 0s 3ms/step - loss: 0.1964 - accuracy: 0.9249 - val_loss: 0.1129 - val_accuracy: 0.9483\n",
            "Epoch 115/1000\n",
            " 1/35 [..............................] - ETA: 0s - loss: 0.1525 - accuracy: 0.9297\n",
            "Epoch 115: saving model to model/keypoint_classifier/keypoint_classifier.hdf5\n",
            "35/35 [==============================] - 0s 2ms/step - loss: 0.2088 - accuracy: 0.9222 - val_loss: 0.1132 - val_accuracy: 0.9469\n",
            "Epoch 116/1000\n",
            "35/35 [==============================] - ETA: 0s - loss: 0.2046 - accuracy: 0.9256\n",
            "Epoch 116: saving model to model/keypoint_classifier/keypoint_classifier.hdf5\n",
            "35/35 [==============================] - 0s 3ms/step - loss: 0.2046 - accuracy: 0.9256 - val_loss: 0.1134 - val_accuracy: 0.9476\n",
            "Epoch 117/1000\n",
            "35/35 [==============================] - ETA: 0s - loss: 0.2087 - accuracy: 0.9197\n",
            "Epoch 117: saving model to model/keypoint_classifier/keypoint_classifier.hdf5\n",
            "35/35 [==============================] - 0s 3ms/step - loss: 0.2087 - accuracy: 0.9197 - val_loss: 0.1131 - val_accuracy: 0.9531\n",
            "Epoch 118/1000\n",
            "35/35 [==============================] - ETA: 0s - loss: 0.2081 - accuracy: 0.9202\n",
            "Epoch 118: saving model to model/keypoint_classifier/keypoint_classifier.hdf5\n",
            "35/35 [==============================] - 0s 3ms/step - loss: 0.2081 - accuracy: 0.9202 - val_loss: 0.1142 - val_accuracy: 0.9565\n",
            "Epoch 119/1000\n",
            " 1/35 [..............................] - ETA: 0s - loss: 0.2403 - accuracy: 0.9062\n",
            "Epoch 119: saving model to model/keypoint_classifier/keypoint_classifier.hdf5\n",
            "35/35 [==============================] - 0s 2ms/step - loss: 0.1944 - accuracy: 0.9215 - val_loss: 0.1131 - val_accuracy: 0.9490\n",
            "Epoch 120/1000\n",
            "29/35 [=======================>......] - ETA: 0s - loss: 0.2044 - accuracy: 0.9181\n",
            "Epoch 120: saving model to model/keypoint_classifier/keypoint_classifier.hdf5\n",
            "35/35 [==============================] - 0s 3ms/step - loss: 0.1993 - accuracy: 0.9202 - val_loss: 0.1112 - val_accuracy: 0.9483\n",
            "Epoch 121/1000\n",
            "33/35 [===========================>..] - ETA: 0s - loss: 0.2042 - accuracy: 0.9231\n",
            "Epoch 121: saving model to model/keypoint_classifier/keypoint_classifier.hdf5\n",
            "35/35 [==============================] - 0s 3ms/step - loss: 0.2022 - accuracy: 0.9236 - val_loss: 0.1109 - val_accuracy: 0.9483\n",
            "Epoch 122/1000\n",
            " 1/35 [..............................] - ETA: 0s - loss: 0.2714 - accuracy: 0.9141\n",
            "Epoch 122: saving model to model/keypoint_classifier/keypoint_classifier.hdf5\n",
            "35/35 [==============================] - 0s 2ms/step - loss: 0.2101 - accuracy: 0.9224 - val_loss: 0.1122 - val_accuracy: 0.9483\n",
            "Epoch 123/1000\n",
            "33/35 [===========================>..] - ETA: 0s - loss: 0.2059 - accuracy: 0.9242\n",
            "Epoch 123: saving model to model/keypoint_classifier/keypoint_classifier.hdf5\n",
            "35/35 [==============================] - 0s 3ms/step - loss: 0.2059 - accuracy: 0.9238 - val_loss: 0.1115 - val_accuracy: 0.9497\n",
            "Epoch 124/1000\n",
            " 1/35 [..............................] - ETA: 0s - loss: 0.1686 - accuracy: 0.9297\n",
            "Epoch 124: saving model to model/keypoint_classifier/keypoint_classifier.hdf5\n",
            "35/35 [==============================] - 0s 3ms/step - loss: 0.1979 - accuracy: 0.9249 - val_loss: 0.1106 - val_accuracy: 0.9558\n",
            "Epoch 125/1000\n",
            " 1/35 [..............................] - ETA: 0s - loss: 0.1930 - accuracy: 0.9219\n",
            "Epoch 125: saving model to model/keypoint_classifier/keypoint_classifier.hdf5\n",
            "35/35 [==============================] - 0s 2ms/step - loss: 0.2051 - accuracy: 0.9249 - val_loss: 0.1122 - val_accuracy: 0.9503\n",
            "Epoch 126/1000\n",
            "33/35 [===========================>..] - ETA: 0s - loss: 0.2112 - accuracy: 0.9188\n",
            "Epoch 126: saving model to model/keypoint_classifier/keypoint_classifier.hdf5\n",
            "35/35 [==============================] - 0s 3ms/step - loss: 0.2101 - accuracy: 0.9193 - val_loss: 0.1125 - val_accuracy: 0.9517\n",
            "Epoch 127/1000\n",
            " 1/35 [..............................] - ETA: 0s - loss: 0.1963 - accuracy: 0.9453\n",
            "Epoch 127: saving model to model/keypoint_classifier/keypoint_classifier.hdf5\n",
            "35/35 [==============================] - 0s 2ms/step - loss: 0.1981 - accuracy: 0.9261 - val_loss: 0.1124 - val_accuracy: 0.9571\n",
            "Epoch 128/1000\n",
            "35/35 [==============================] - ETA: 0s - loss: 0.2065 - accuracy: 0.9222\n",
            "Epoch 128: saving model to model/keypoint_classifier/keypoint_classifier.hdf5\n",
            "35/35 [==============================] - 0s 3ms/step - loss: 0.2065 - accuracy: 0.9222 - val_loss: 0.1132 - val_accuracy: 0.9517\n",
            "Epoch 129/1000\n",
            "34/35 [============================>.] - ETA: 0s - loss: 0.2094 - accuracy: 0.9237\n",
            "Epoch 129: saving model to model/keypoint_classifier/keypoint_classifier.hdf5\n",
            "35/35 [==============================] - 0s 3ms/step - loss: 0.2088 - accuracy: 0.9243 - val_loss: 0.1108 - val_accuracy: 0.9551\n",
            "Epoch 130/1000\n",
            "33/35 [===========================>..] - ETA: 0s - loss: 0.1984 - accuracy: 0.9240\n",
            "Epoch 130: saving model to model/keypoint_classifier/keypoint_classifier.hdf5\n",
            "35/35 [==============================] - 0s 5ms/step - loss: 0.1987 - accuracy: 0.9240 - val_loss: 0.1114 - val_accuracy: 0.9503\n",
            "Epoch 131/1000\n",
            "35/35 [==============================] - ETA: 0s - loss: 0.2018 - accuracy: 0.9229\n",
            "Epoch 131: saving model to model/keypoint_classifier/keypoint_classifier.hdf5\n",
            "35/35 [==============================] - 0s 3ms/step - loss: 0.2018 - accuracy: 0.9229 - val_loss: 0.1118 - val_accuracy: 0.9497\n",
            "Epoch 132/1000\n",
            " 1/35 [..............................] - ETA: 0s - loss: 0.2240 - accuracy: 0.9062\n",
            "Epoch 132: saving model to model/keypoint_classifier/keypoint_classifier.hdf5\n",
            "35/35 [==============================] - 0s 3ms/step - loss: 0.2039 - accuracy: 0.9243 - val_loss: 0.1131 - val_accuracy: 0.9517\n",
            "Epoch 133/1000\n",
            "29/35 [=======================>......] - ETA: 0s - loss: 0.2023 - accuracy: 0.9254\n",
            "Epoch 133: saving model to model/keypoint_classifier/keypoint_classifier.hdf5\n",
            "35/35 [==============================] - 0s 3ms/step - loss: 0.2057 - accuracy: 0.9247 - val_loss: 0.1125 - val_accuracy: 0.9524\n",
            "Epoch 134/1000\n",
            "32/35 [==========================>...] - ETA: 0s - loss: 0.1924 - accuracy: 0.9282\n",
            "Epoch 134: saving model to model/keypoint_classifier/keypoint_classifier.hdf5\n",
            "35/35 [==============================] - 0s 3ms/step - loss: 0.1935 - accuracy: 0.9268 - val_loss: 0.1106 - val_accuracy: 0.9524\n",
            "Epoch 135/1000\n",
            " 1/35 [..............................] - ETA: 0s - loss: 0.1419 - accuracy: 0.9531\n",
            "Epoch 135: saving model to model/keypoint_classifier/keypoint_classifier.hdf5\n",
            "35/35 [==============================] - 0s 3ms/step - loss: 0.1927 - accuracy: 0.9270 - val_loss: 0.1121 - val_accuracy: 0.9497\n",
            "Epoch 136/1000\n",
            "35/35 [==============================] - ETA: 0s - loss: 0.2004 - accuracy: 0.9252\n",
            "Epoch 136: saving model to model/keypoint_classifier/keypoint_classifier.hdf5\n",
            "35/35 [==============================] - 0s 3ms/step - loss: 0.2004 - accuracy: 0.9252 - val_loss: 0.1105 - val_accuracy: 0.9558\n",
            "Epoch 137/1000\n",
            "34/35 [============================>.] - ETA: 0s - loss: 0.1991 - accuracy: 0.9260\n",
            "Epoch 137: saving model to model/keypoint_classifier/keypoint_classifier.hdf5\n",
            "35/35 [==============================] - 0s 3ms/step - loss: 0.1989 - accuracy: 0.9263 - val_loss: 0.1095 - val_accuracy: 0.9503\n",
            "Epoch 138/1000\n",
            " 1/35 [..............................] - ETA: 0s - loss: 0.1574 - accuracy: 0.9609\n",
            "Epoch 138: saving model to model/keypoint_classifier/keypoint_classifier.hdf5\n",
            "35/35 [==============================] - 0s 3ms/step - loss: 0.1971 - accuracy: 0.9279 - val_loss: 0.1088 - val_accuracy: 0.9531\n",
            "Epoch 139/1000\n",
            " 1/35 [..............................] - ETA: 0s - loss: 0.1469 - accuracy: 0.9609\n",
            "Epoch 139: saving model to model/keypoint_classifier/keypoint_classifier.hdf5\n",
            "35/35 [==============================] - 0s 3ms/step - loss: 0.2031 - accuracy: 0.9179 - val_loss: 0.1094 - val_accuracy: 0.9517\n",
            "Epoch 140/1000\n",
            "28/35 [=======================>......] - ETA: 0s - loss: 0.2032 - accuracy: 0.9219\n",
            "Epoch 140: saving model to model/keypoint_classifier/keypoint_classifier.hdf5\n",
            "35/35 [==============================] - 0s 3ms/step - loss: 0.2018 - accuracy: 0.9231 - val_loss: 0.1111 - val_accuracy: 0.9497\n",
            "Epoch 141/1000\n",
            " 1/35 [..............................] - ETA: 0s - loss: 0.2702 - accuracy: 0.8906\n",
            "Epoch 141: saving model to model/keypoint_classifier/keypoint_classifier.hdf5\n",
            "35/35 [==============================] - 0s 3ms/step - loss: 0.1975 - accuracy: 0.9261 - val_loss: 0.1104 - val_accuracy: 0.9524\n",
            "Epoch 142/1000\n",
            " 1/35 [..............................] - ETA: 0s - loss: 0.1961 - accuracy: 0.9375\n",
            "Epoch 142: saving model to model/keypoint_classifier/keypoint_classifier.hdf5\n",
            "35/35 [==============================] - 0s 3ms/step - loss: 0.2001 - accuracy: 0.9224 - val_loss: 0.1104 - val_accuracy: 0.9571\n",
            "Epoch 143/1000\n",
            "34/35 [============================>.] - ETA: 0s - loss: 0.1984 - accuracy: 0.9288\n",
            "Epoch 143: saving model to model/keypoint_classifier/keypoint_classifier.hdf5\n",
            "35/35 [==============================] - 0s 3ms/step - loss: 0.2000 - accuracy: 0.9279 - val_loss: 0.1100 - val_accuracy: 0.9524\n",
            "Epoch 144/1000\n",
            " 1/35 [..............................] - ETA: 0s - loss: 0.1480 - accuracy: 0.9453\n",
            "Epoch 144: saving model to model/keypoint_classifier/keypoint_classifier.hdf5\n",
            "35/35 [==============================] - 0s 2ms/step - loss: 0.2031 - accuracy: 0.9268 - val_loss: 0.1150 - val_accuracy: 0.9490\n",
            "Epoch 145/1000\n",
            "35/35 [==============================] - ETA: 0s - loss: 0.2000 - accuracy: 0.9227\n",
            "Epoch 145: saving model to model/keypoint_classifier/keypoint_classifier.hdf5\n",
            "35/35 [==============================] - 0s 3ms/step - loss: 0.2000 - accuracy: 0.9227 - val_loss: 0.1110 - val_accuracy: 0.9510\n",
            "Epoch 146/1000\n",
            "35/35 [==============================] - ETA: 0s - loss: 0.2053 - accuracy: 0.9227\n",
            "Epoch 146: saving model to model/keypoint_classifier/keypoint_classifier.hdf5\n",
            "35/35 [==============================] - 0s 3ms/step - loss: 0.2053 - accuracy: 0.9227 - val_loss: 0.1097 - val_accuracy: 0.9490\n",
            "Epoch 147/1000\n",
            "30/35 [========================>.....] - ETA: 0s - loss: 0.1922 - accuracy: 0.9286\n",
            "Epoch 147: saving model to model/keypoint_classifier/keypoint_classifier.hdf5\n",
            "35/35 [==============================] - 0s 3ms/step - loss: 0.1879 - accuracy: 0.9311 - val_loss: 0.1076 - val_accuracy: 0.9565\n",
            "Epoch 148/1000\n",
            " 1/35 [..............................] - ETA: 0s - loss: 0.1345 - accuracy: 0.9453\n",
            "Epoch 148: saving model to model/keypoint_classifier/keypoint_classifier.hdf5\n",
            "35/35 [==============================] - 0s 3ms/step - loss: 0.1937 - accuracy: 0.9297 - val_loss: 0.1096 - val_accuracy: 0.9537\n",
            "Epoch 149/1000\n",
            " 1/35 [..............................] - ETA: 0s - loss: 0.2043 - accuracy: 0.9297\n",
            "Epoch 149: saving model to model/keypoint_classifier/keypoint_classifier.hdf5\n",
            "35/35 [==============================] - 0s 3ms/step - loss: 0.2014 - accuracy: 0.9240 - val_loss: 0.1102 - val_accuracy: 0.9531\n",
            "Epoch 150/1000\n",
            "34/35 [============================>.] - ETA: 0s - loss: 0.1923 - accuracy: 0.9272\n",
            "Epoch 150: saving model to model/keypoint_classifier/keypoint_classifier.hdf5\n",
            "35/35 [==============================] - 0s 3ms/step - loss: 0.1923 - accuracy: 0.9274 - val_loss: 0.1076 - val_accuracy: 0.9592\n",
            "Epoch 151/1000\n",
            " 1/35 [..............................] - ETA: 0s - loss: 0.2318 - accuracy: 0.8906\n",
            "Epoch 151: saving model to model/keypoint_classifier/keypoint_classifier.hdf5\n",
            "35/35 [==============================] - 0s 2ms/step - loss: 0.2050 - accuracy: 0.9263 - val_loss: 0.1106 - val_accuracy: 0.9524\n",
            "Epoch 152/1000\n",
            "35/35 [==============================] - ETA: 0s - loss: 0.1911 - accuracy: 0.9229\n",
            "Epoch 152: saving model to model/keypoint_classifier/keypoint_classifier.hdf5\n",
            "35/35 [==============================] - 0s 3ms/step - loss: 0.1911 - accuracy: 0.9229 - val_loss: 0.1090 - val_accuracy: 0.9510\n",
            "Epoch 153/1000\n",
            "25/35 [====================>.........] - ETA: 0s - loss: 0.1955 - accuracy: 0.9250\n",
            "Epoch 153: saving model to model/keypoint_classifier/keypoint_classifier.hdf5\n",
            "35/35 [==============================] - 0s 3ms/step - loss: 0.1922 - accuracy: 0.9252 - val_loss: 0.1087 - val_accuracy: 0.9517\n",
            "Epoch 154/1000\n",
            "34/35 [============================>.] - ETA: 0s - loss: 0.1989 - accuracy: 0.9239\n",
            "Epoch 154: saving model to model/keypoint_classifier/keypoint_classifier.hdf5\n",
            "35/35 [==============================] - 0s 3ms/step - loss: 0.2001 - accuracy: 0.9234 - val_loss: 0.1057 - val_accuracy: 0.9592\n",
            "Epoch 155/1000\n",
            "34/35 [============================>.] - ETA: 0s - loss: 0.2010 - accuracy: 0.9283\n",
            "Epoch 155: saving model to model/keypoint_classifier/keypoint_classifier.hdf5\n",
            "35/35 [==============================] - 0s 3ms/step - loss: 0.1998 - accuracy: 0.9288 - val_loss: 0.1089 - val_accuracy: 0.9483\n",
            "Epoch 156/1000\n",
            "31/35 [=========================>....] - ETA: 0s - loss: 0.1989 - accuracy: 0.9244\n",
            "Epoch 156: saving model to model/keypoint_classifier/keypoint_classifier.hdf5\n",
            "35/35 [==============================] - 0s 3ms/step - loss: 0.1980 - accuracy: 0.9249 - val_loss: 0.1093 - val_accuracy: 0.9524\n",
            "Epoch 157/1000\n",
            " 1/35 [..............................] - ETA: 0s - loss: 0.1965 - accuracy: 0.9297\n",
            "Epoch 157: saving model to model/keypoint_classifier/keypoint_classifier.hdf5\n",
            "35/35 [==============================] - 0s 3ms/step - loss: 0.1963 - accuracy: 0.9265 - val_loss: 0.1093 - val_accuracy: 0.9565\n",
            "Epoch 158/1000\n",
            " 1/35 [..............................] - ETA: 0s - loss: 0.1849 - accuracy: 0.9141\n",
            "Epoch 158: saving model to model/keypoint_classifier/keypoint_classifier.hdf5\n",
            "35/35 [==============================] - 0s 3ms/step - loss: 0.1916 - accuracy: 0.9263 - val_loss: 0.1078 - val_accuracy: 0.9524\n",
            "Epoch 159/1000\n",
            "35/35 [==============================] - ETA: 0s - loss: 0.1830 - accuracy: 0.9299\n",
            "Epoch 159: saving model to model/keypoint_classifier/keypoint_classifier.hdf5\n",
            "35/35 [==============================] - 0s 3ms/step - loss: 0.1830 - accuracy: 0.9299 - val_loss: 0.1087 - val_accuracy: 0.9517\n",
            "Epoch 160/1000\n",
            "34/35 [============================>.] - ETA: 0s - loss: 0.1958 - accuracy: 0.9292\n",
            "Epoch 160: saving model to model/keypoint_classifier/keypoint_classifier.hdf5\n",
            "35/35 [==============================] - 0s 3ms/step - loss: 0.1956 - accuracy: 0.9295 - val_loss: 0.1059 - val_accuracy: 0.9531\n",
            "Epoch 161/1000\n",
            " 1/35 [..............................] - ETA: 0s - loss: 0.1655 - accuracy: 0.9453\n",
            "Epoch 161: saving model to model/keypoint_classifier/keypoint_classifier.hdf5\n",
            "35/35 [==============================] - 0s 3ms/step - loss: 0.2006 - accuracy: 0.9234 - val_loss: 0.1046 - val_accuracy: 0.9592\n",
            "Epoch 162/1000\n",
            "33/35 [===========================>..] - ETA: 0s - loss: 0.2008 - accuracy: 0.9280\n",
            "Epoch 162: saving model to model/keypoint_classifier/keypoint_classifier.hdf5\n",
            "35/35 [==============================] - 0s 3ms/step - loss: 0.2005 - accuracy: 0.9286 - val_loss: 0.1046 - val_accuracy: 0.9592\n",
            "Epoch 163/1000\n",
            " 1/35 [..............................] - ETA: 0s - loss: 0.2086 - accuracy: 0.9141\n",
            "Epoch 163: saving model to model/keypoint_classifier/keypoint_classifier.hdf5\n",
            "35/35 [==============================] - 0s 3ms/step - loss: 0.1983 - accuracy: 0.9234 - val_loss: 0.1051 - val_accuracy: 0.9578\n",
            "Epoch 164/1000\n",
            "33/35 [===========================>..] - ETA: 0s - loss: 0.1833 - accuracy: 0.9328\n",
            "Epoch 164: saving model to model/keypoint_classifier/keypoint_classifier.hdf5\n",
            "35/35 [==============================] - 0s 3ms/step - loss: 0.1840 - accuracy: 0.9320 - val_loss: 0.1064 - val_accuracy: 0.9517\n",
            "Epoch 165/1000\n",
            " 1/35 [..............................] - ETA: 0s - loss: 0.1490 - accuracy: 0.9531\n",
            "Epoch 165: saving model to model/keypoint_classifier/keypoint_classifier.hdf5\n",
            "35/35 [==============================] - 0s 3ms/step - loss: 0.2027 - accuracy: 0.9256 - val_loss: 0.1063 - val_accuracy: 0.9592\n",
            "Epoch 166/1000\n",
            "35/35 [==============================] - ETA: 0s - loss: 0.1965 - accuracy: 0.9229\n",
            "Epoch 166: saving model to model/keypoint_classifier/keypoint_classifier.hdf5\n",
            "35/35 [==============================] - 0s 3ms/step - loss: 0.1965 - accuracy: 0.9229 - val_loss: 0.1054 - val_accuracy: 0.9585\n",
            "Epoch 167/1000\n",
            "34/35 [============================>.] - ETA: 0s - loss: 0.1872 - accuracy: 0.9288\n",
            "Epoch 167: saving model to model/keypoint_classifier/keypoint_classifier.hdf5\n",
            "35/35 [==============================] - 0s 3ms/step - loss: 0.1866 - accuracy: 0.9290 - val_loss: 0.1069 - val_accuracy: 0.9510\n",
            "Epoch 168/1000\n",
            " 1/35 [..............................] - ETA: 0s - loss: 0.1652 - accuracy: 0.9531\n",
            "Epoch 168: saving model to model/keypoint_classifier/keypoint_classifier.hdf5\n",
            "35/35 [==============================] - 0s 3ms/step - loss: 0.2002 - accuracy: 0.9263 - val_loss: 0.1068 - val_accuracy: 0.9524\n",
            "Epoch 169/1000\n",
            "33/35 [===========================>..] - ETA: 0s - loss: 0.1889 - accuracy: 0.9297\n",
            "Epoch 169: saving model to model/keypoint_classifier/keypoint_classifier.hdf5\n",
            "35/35 [==============================] - 0s 3ms/step - loss: 0.1876 - accuracy: 0.9299 - val_loss: 0.1065 - val_accuracy: 0.9524\n",
            "Epoch 170/1000\n",
            "34/35 [============================>.] - ETA: 0s - loss: 0.1977 - accuracy: 0.9290\n",
            "Epoch 170: saving model to model/keypoint_classifier/keypoint_classifier.hdf5\n",
            "35/35 [==============================] - 0s 3ms/step - loss: 0.1976 - accuracy: 0.9290 - val_loss: 0.1076 - val_accuracy: 0.9503\n",
            "Epoch 171/1000\n",
            " 1/35 [..............................] - ETA: 0s - loss: 0.2535 - accuracy: 0.8984\n",
            "Epoch 171: saving model to model/keypoint_classifier/keypoint_classifier.hdf5\n",
            "35/35 [==============================] - 0s 3ms/step - loss: 0.1996 - accuracy: 0.9274 - val_loss: 0.1074 - val_accuracy: 0.9517\n",
            "Epoch 172/1000\n",
            "30/35 [========================>.....] - ETA: 0s - loss: 0.1928 - accuracy: 0.9273\n",
            "Epoch 172: saving model to model/keypoint_classifier/keypoint_classifier.hdf5\n",
            "35/35 [==============================] - 0s 5ms/step - loss: 0.1901 - accuracy: 0.9279 - val_loss: 0.1060 - val_accuracy: 0.9524\n",
            "Epoch 173/1000\n",
            " 1/35 [..............................] - ETA: 0s - loss: 0.2095 - accuracy: 0.9297\n",
            "Epoch 173: saving model to model/keypoint_classifier/keypoint_classifier.hdf5\n",
            "35/35 [==============================] - 0s 3ms/step - loss: 0.1998 - accuracy: 0.9283 - val_loss: 0.1045 - val_accuracy: 0.9571\n",
            "Epoch 174/1000\n",
            "33/35 [===========================>..] - ETA: 0s - loss: 0.1925 - accuracy: 0.9292\n",
            "Epoch 174: saving model to model/keypoint_classifier/keypoint_classifier.hdf5\n",
            "35/35 [==============================] - 0s 3ms/step - loss: 0.1919 - accuracy: 0.9286 - val_loss: 0.1037 - val_accuracy: 0.9571\n",
            "Epoch 175/1000\n",
            " 1/35 [..............................] - ETA: 0s - loss: 0.2303 - accuracy: 0.8906\n",
            "Epoch 175: saving model to model/keypoint_classifier/keypoint_classifier.hdf5\n",
            "35/35 [==============================] - 0s 2ms/step - loss: 0.1844 - accuracy: 0.9299 - val_loss: 0.1054 - val_accuracy: 0.9510\n",
            "Epoch 176/1000\n",
            "35/35 [==============================] - ETA: 0s - loss: 0.2004 - accuracy: 0.9268\n",
            "Epoch 176: saving model to model/keypoint_classifier/keypoint_classifier.hdf5\n",
            "35/35 [==============================] - 0s 3ms/step - loss: 0.2004 - accuracy: 0.9268 - val_loss: 0.1065 - val_accuracy: 0.9490\n",
            "Epoch 177/1000\n",
            "34/35 [============================>.] - ETA: 0s - loss: 0.2033 - accuracy: 0.9237\n",
            "Epoch 177: saving model to model/keypoint_classifier/keypoint_classifier.hdf5\n",
            "35/35 [==============================] - 0s 3ms/step - loss: 0.2036 - accuracy: 0.9231 - val_loss: 0.1052 - val_accuracy: 0.9524\n",
            "Epoch 178/1000\n",
            "35/35 [==============================] - ETA: 0s - loss: 0.1891 - accuracy: 0.9308\n",
            "Epoch 178: saving model to model/keypoint_classifier/keypoint_classifier.hdf5\n",
            "35/35 [==============================] - 0s 3ms/step - loss: 0.1891 - accuracy: 0.9308 - val_loss: 0.1049 - val_accuracy: 0.9531\n",
            "Epoch 179/1000\n",
            "32/35 [==========================>...] - ETA: 0s - loss: 0.1960 - accuracy: 0.9248\n",
            "Epoch 179: saving model to model/keypoint_classifier/keypoint_classifier.hdf5\n",
            "35/35 [==============================] - 0s 3ms/step - loss: 0.1949 - accuracy: 0.9256 - val_loss: 0.1049 - val_accuracy: 0.9599\n",
            "Epoch 180/1000\n",
            "35/35 [==============================] - ETA: 0s - loss: 0.1849 - accuracy: 0.9313\n",
            "Epoch 180: saving model to model/keypoint_classifier/keypoint_classifier.hdf5\n",
            "35/35 [==============================] - 0s 3ms/step - loss: 0.1849 - accuracy: 0.9313 - val_loss: 0.1041 - val_accuracy: 0.9571\n",
            "Epoch 181/1000\n",
            "34/35 [============================>.] - ETA: 0s - loss: 0.1937 - accuracy: 0.9290\n",
            "Epoch 181: saving model to model/keypoint_classifier/keypoint_classifier.hdf5\n",
            "35/35 [==============================] - 0s 3ms/step - loss: 0.1933 - accuracy: 0.9293 - val_loss: 0.1022 - val_accuracy: 0.9571\n",
            "Epoch 182/1000\n",
            "33/35 [===========================>..] - ETA: 0s - loss: 0.1982 - accuracy: 0.9273\n",
            "Epoch 182: saving model to model/keypoint_classifier/keypoint_classifier.hdf5\n",
            "35/35 [==============================] - 0s 3ms/step - loss: 0.2007 - accuracy: 0.9256 - val_loss: 0.1050 - val_accuracy: 0.9517\n",
            "Epoch 183/1000\n",
            "35/35 [==============================] - ETA: 0s - loss: 0.2012 - accuracy: 0.9249\n",
            "Epoch 183: saving model to model/keypoint_classifier/keypoint_classifier.hdf5\n",
            "35/35 [==============================] - 0s 3ms/step - loss: 0.2012 - accuracy: 0.9249 - val_loss: 0.1061 - val_accuracy: 0.9510\n",
            "Epoch 184/1000\n",
            " 1/35 [..............................] - ETA: 0s - loss: 0.1888 - accuracy: 0.9375\n",
            "Epoch 184: saving model to model/keypoint_classifier/keypoint_classifier.hdf5\n",
            "35/35 [==============================] - 0s 3ms/step - loss: 0.2036 - accuracy: 0.9290 - val_loss: 0.1056 - val_accuracy: 0.9558\n",
            "Epoch 185/1000\n",
            " 1/35 [..............................] - ETA: 0s - loss: 0.1975 - accuracy: 0.9375\n",
            "Epoch 185: saving model to model/keypoint_classifier/keypoint_classifier.hdf5\n",
            "35/35 [==============================] - 0s 3ms/step - loss: 0.1937 - accuracy: 0.9295 - val_loss: 0.1054 - val_accuracy: 0.9565\n",
            "Epoch 186/1000\n",
            "29/35 [=======================>......] - ETA: 0s - loss: 0.2034 - accuracy: 0.9230\n",
            "Epoch 186: saving model to model/keypoint_classifier/keypoint_classifier.hdf5\n",
            "35/35 [==============================] - 0s 3ms/step - loss: 0.2003 - accuracy: 0.9254 - val_loss: 0.1085 - val_accuracy: 0.9497\n",
            "Epoch 187/1000\n",
            " 1/35 [..............................] - ETA: 0s - loss: 0.1173 - accuracy: 0.9609\n",
            "Epoch 187: saving model to model/keypoint_classifier/keypoint_classifier.hdf5\n",
            "35/35 [==============================] - 0s 3ms/step - loss: 0.1902 - accuracy: 0.9286 - val_loss: 0.1054 - val_accuracy: 0.9517\n",
            "Epoch 188/1000\n",
            " 1/35 [..............................] - ETA: 0s - loss: 0.1349 - accuracy: 0.9531\n",
            "Epoch 188: saving model to model/keypoint_classifier/keypoint_classifier.hdf5\n",
            "35/35 [==============================] - 0s 3ms/step - loss: 0.1850 - accuracy: 0.9336 - val_loss: 0.1051 - val_accuracy: 0.9571\n",
            "Epoch 189/1000\n",
            "32/35 [==========================>...] - ETA: 0s - loss: 0.1946 - accuracy: 0.9275\n",
            "Epoch 189: saving model to model/keypoint_classifier/keypoint_classifier.hdf5\n",
            "35/35 [==============================] - 0s 4ms/step - loss: 0.1956 - accuracy: 0.9270 - val_loss: 0.1053 - val_accuracy: 0.9524\n",
            "Epoch 190/1000\n",
            "30/35 [========================>.....] - ETA: 0s - loss: 0.1972 - accuracy: 0.9245\n",
            "Epoch 190: saving model to model/keypoint_classifier/keypoint_classifier.hdf5\n",
            "35/35 [==============================] - 0s 3ms/step - loss: 0.1933 - accuracy: 0.9270 - val_loss: 0.1038 - val_accuracy: 0.9544\n",
            "Epoch 191/1000\n",
            "32/35 [==========================>...] - ETA: 0s - loss: 0.1845 - accuracy: 0.9324\n",
            "Epoch 191: saving model to model/keypoint_classifier/keypoint_classifier.hdf5\n",
            "35/35 [==============================] - 0s 3ms/step - loss: 0.1871 - accuracy: 0.9322 - val_loss: 0.1040 - val_accuracy: 0.9571\n",
            "Epoch 192/1000\n",
            " 1/35 [..............................] - ETA: 0s - loss: 0.1899 - accuracy: 0.9219\n",
            "Epoch 192: saving model to model/keypoint_classifier/keypoint_classifier.hdf5\n",
            "35/35 [==============================] - 0s 3ms/step - loss: 0.1895 - accuracy: 0.9256 - val_loss: 0.1028 - val_accuracy: 0.9592\n",
            "Epoch 193/1000\n",
            "28/35 [=======================>......] - ETA: 0s - loss: 0.1865 - accuracy: 0.9241\n",
            "Epoch 193: saving model to model/keypoint_classifier/keypoint_classifier.hdf5\n",
            "35/35 [==============================] - 0s 3ms/step - loss: 0.1862 - accuracy: 0.9265 - val_loss: 0.1038 - val_accuracy: 0.9565\n",
            "Epoch 194/1000\n",
            "34/35 [============================>.] - ETA: 0s - loss: 0.1792 - accuracy: 0.9350\n",
            "Epoch 194: saving model to model/keypoint_classifier/keypoint_classifier.hdf5\n",
            "35/35 [==============================] - 0s 3ms/step - loss: 0.1808 - accuracy: 0.9345 - val_loss: 0.1028 - val_accuracy: 0.9565\n",
            "Epoch 195/1000\n",
            "34/35 [============================>.] - ETA: 0s - loss: 0.1933 - accuracy: 0.9292\n",
            "Epoch 195: saving model to model/keypoint_classifier/keypoint_classifier.hdf5\n",
            "35/35 [==============================] - 0s 3ms/step - loss: 0.1937 - accuracy: 0.9286 - val_loss: 0.1031 - val_accuracy: 0.9578\n",
            "Epoch 196/1000\n",
            "35/35 [==============================] - ETA: 0s - loss: 0.2014 - accuracy: 0.9224\n",
            "Epoch 196: saving model to model/keypoint_classifier/keypoint_classifier.hdf5\n",
            "35/35 [==============================] - 0s 3ms/step - loss: 0.2014 - accuracy: 0.9224 - val_loss: 0.1054 - val_accuracy: 0.9537\n",
            "Epoch 197/1000\n",
            " 1/35 [..............................] - ETA: 0s - loss: 0.1469 - accuracy: 0.9375\n",
            "Epoch 197: saving model to model/keypoint_classifier/keypoint_classifier.hdf5\n",
            "35/35 [==============================] - 0s 2ms/step - loss: 0.1913 - accuracy: 0.9274 - val_loss: 0.1042 - val_accuracy: 0.9571\n",
            "Epoch 198/1000\n",
            "33/35 [===========================>..] - ETA: 0s - loss: 0.1858 - accuracy: 0.9285\n",
            "Epoch 198: saving model to model/keypoint_classifier/keypoint_classifier.hdf5\n",
            "35/35 [==============================] - 0s 3ms/step - loss: 0.1864 - accuracy: 0.9286 - val_loss: 0.1044 - val_accuracy: 0.9558\n",
            "Epoch 199/1000\n",
            " 1/35 [..............................] - ETA: 0s - loss: 0.2261 - accuracy: 0.9297\n",
            "Epoch 199: saving model to model/keypoint_classifier/keypoint_classifier.hdf5\n",
            "35/35 [==============================] - 0s 3ms/step - loss: 0.1938 - accuracy: 0.9281 - val_loss: 0.1009 - val_accuracy: 0.9578\n",
            "Epoch 200/1000\n",
            "31/35 [=========================>....] - ETA: 0s - loss: 0.1933 - accuracy: 0.9284\n",
            "Epoch 200: saving model to model/keypoint_classifier/keypoint_classifier.hdf5\n",
            "35/35 [==============================] - 0s 3ms/step - loss: 0.1936 - accuracy: 0.9270 - val_loss: 0.1033 - val_accuracy: 0.9510\n",
            "Epoch 201/1000\n",
            " 1/35 [..............................] - ETA: 0s - loss: 0.1329 - accuracy: 0.9609\n",
            "Epoch 201: saving model to model/keypoint_classifier/keypoint_classifier.hdf5\n",
            "35/35 [==============================] - 0s 2ms/step - loss: 0.1772 - accuracy: 0.9324 - val_loss: 0.1057 - val_accuracy: 0.9483\n",
            "Epoch 202/1000\n",
            " 1/35 [..............................] - ETA: 0s - loss: 0.1581 - accuracy: 0.9375\n",
            "Epoch 202: saving model to model/keypoint_classifier/keypoint_classifier.hdf5\n",
            "35/35 [==============================] - 0s 3ms/step - loss: 0.1898 - accuracy: 0.9329 - val_loss: 0.1032 - val_accuracy: 0.9578\n",
            "Epoch 203/1000\n",
            "35/35 [==============================] - ETA: 0s - loss: 0.1865 - accuracy: 0.9331\n",
            "Epoch 203: saving model to model/keypoint_classifier/keypoint_classifier.hdf5\n",
            "35/35 [==============================] - 0s 3ms/step - loss: 0.1865 - accuracy: 0.9331 - val_loss: 0.1015 - val_accuracy: 0.9592\n",
            "Epoch 204/1000\n",
            "35/35 [==============================] - ETA: 0s - loss: 0.1951 - accuracy: 0.9247\n",
            "Epoch 204: saving model to model/keypoint_classifier/keypoint_classifier.hdf5\n",
            "35/35 [==============================] - 0s 3ms/step - loss: 0.1951 - accuracy: 0.9247 - val_loss: 0.1012 - val_accuracy: 0.9578\n",
            "Epoch 205/1000\n",
            " 1/35 [..............................] - ETA: 0s - loss: 0.1831 - accuracy: 0.9375\n",
            "Epoch 205: saving model to model/keypoint_classifier/keypoint_classifier.hdf5\n",
            "35/35 [==============================] - 0s 3ms/step - loss: 0.1890 - accuracy: 0.9283 - val_loss: 0.1013 - val_accuracy: 0.9578\n",
            "Epoch 206/1000\n",
            "34/35 [============================>.] - ETA: 0s - loss: 0.1855 - accuracy: 0.9308\n",
            "Epoch 206: saving model to model/keypoint_classifier/keypoint_classifier.hdf5\n",
            "35/35 [==============================] - 0s 4ms/step - loss: 0.1853 - accuracy: 0.9308 - val_loss: 0.1021 - val_accuracy: 0.9585\n",
            "Epoch 207/1000\n",
            "28/35 [=======================>......] - ETA: 0s - loss: 0.1887 - accuracy: 0.9322\n",
            "Epoch 207: saving model to model/keypoint_classifier/keypoint_classifier.hdf5\n",
            "35/35 [==============================] - 0s 3ms/step - loss: 0.1861 - accuracy: 0.9331 - val_loss: 0.1023 - val_accuracy: 0.9524\n",
            "Epoch 208/1000\n",
            "35/35 [==============================] - ETA: 0s - loss: 0.1891 - accuracy: 0.9295\n",
            "Epoch 208: saving model to model/keypoint_classifier/keypoint_classifier.hdf5\n",
            "35/35 [==============================] - 0s 3ms/step - loss: 0.1891 - accuracy: 0.9295 - val_loss: 0.1039 - val_accuracy: 0.9517\n",
            "Epoch 209/1000\n",
            "35/35 [==============================] - ETA: 0s - loss: 0.1871 - accuracy: 0.9306\n",
            "Epoch 209: saving model to model/keypoint_classifier/keypoint_classifier.hdf5\n",
            "35/35 [==============================] - 0s 3ms/step - loss: 0.1871 - accuracy: 0.9306 - val_loss: 0.1052 - val_accuracy: 0.9476\n",
            "Epoch 210/1000\n",
            "35/35 [==============================] - ETA: 0s - loss: 0.1874 - accuracy: 0.9299\n",
            "Epoch 210: saving model to model/keypoint_classifier/keypoint_classifier.hdf5\n",
            "35/35 [==============================] - 0s 3ms/step - loss: 0.1874 - accuracy: 0.9299 - val_loss: 0.1021 - val_accuracy: 0.9510\n",
            "Epoch 211/1000\n",
            "31/35 [=========================>....] - ETA: 0s - loss: 0.1997 - accuracy: 0.9254\n",
            "Epoch 211: saving model to model/keypoint_classifier/keypoint_classifier.hdf5\n",
            "35/35 [==============================] - 0s 3ms/step - loss: 0.1961 - accuracy: 0.9259 - val_loss: 0.1023 - val_accuracy: 0.9503\n",
            "Epoch 212/1000\n",
            " 1/35 [..............................] - ETA: 0s - loss: 0.1669 - accuracy: 0.9688\n",
            "Epoch 212: saving model to model/keypoint_classifier/keypoint_classifier.hdf5\n",
            "35/35 [==============================] - 0s 3ms/step - loss: 0.1814 - accuracy: 0.9361 - val_loss: 0.1049 - val_accuracy: 0.9483\n",
            "Epoch 213/1000\n",
            "33/35 [===========================>..] - ETA: 0s - loss: 0.1987 - accuracy: 0.9247\n",
            "Epoch 213: saving model to model/keypoint_classifier/keypoint_classifier.hdf5\n",
            "35/35 [==============================] - 0s 3ms/step - loss: 0.1964 - accuracy: 0.9261 - val_loss: 0.1038 - val_accuracy: 0.9497\n",
            "Epoch 214/1000\n",
            " 1/35 [..............................] - ETA: 0s - loss: 0.1970 - accuracy: 0.9375\n",
            "Epoch 214: saving model to model/keypoint_classifier/keypoint_classifier.hdf5\n",
            "35/35 [==============================] - 0s 2ms/step - loss: 0.1828 - accuracy: 0.9331 - val_loss: 0.1043 - val_accuracy: 0.9503\n",
            "Epoch 215/1000\n",
            " 1/35 [..............................] - ETA: 0s - loss: 0.1560 - accuracy: 0.9375\n",
            "Epoch 215: saving model to model/keypoint_classifier/keypoint_classifier.hdf5\n",
            "35/35 [==============================] - 0s 3ms/step - loss: 0.1897 - accuracy: 0.9261 - val_loss: 0.1063 - val_accuracy: 0.9490\n",
            "Epoch 216/1000\n",
            " 1/35 [..............................] - ETA: 0s - loss: 0.2124 - accuracy: 0.9297\n",
            "Epoch 216: saving model to model/keypoint_classifier/keypoint_classifier.hdf5\n",
            "35/35 [==============================] - 0s 3ms/step - loss: 0.1705 - accuracy: 0.9361 - val_loss: 0.1043 - val_accuracy: 0.9490\n",
            "Epoch 217/1000\n",
            " 1/35 [..............................] - ETA: 0s - loss: 0.1430 - accuracy: 0.9453\n",
            "Epoch 217: saving model to model/keypoint_classifier/keypoint_classifier.hdf5\n",
            "35/35 [==============================] - 0s 3ms/step - loss: 0.1858 - accuracy: 0.9338 - val_loss: 0.1050 - val_accuracy: 0.9497\n",
            "Epoch 218/1000\n",
            "34/35 [============================>.] - ETA: 0s - loss: 0.1832 - accuracy: 0.9329\n",
            "Epoch 218: saving model to model/keypoint_classifier/keypoint_classifier.hdf5\n",
            "35/35 [==============================] - 0s 3ms/step - loss: 0.1838 - accuracy: 0.9324 - val_loss: 0.1048 - val_accuracy: 0.9503\n",
            "Epoch 219/1000\n",
            " 1/35 [..............................] - ETA: 0s - loss: 0.2313 - accuracy: 0.9141\n",
            "Epoch 219: saving model to model/keypoint_classifier/keypoint_classifier.hdf5\n",
            "35/35 [==============================] - 0s 3ms/step - loss: 0.1960 - accuracy: 0.9268 - val_loss: 0.1025 - val_accuracy: 0.9503\n",
            "Epoch 219: early stopping\n"
          ]
        },
        {
          "data": {
            "text/plain": [
              "<keras.callbacks.History at 0x7ffa38fa0d90>"
            ]
          },
          "execution_count": 11,
          "metadata": {},
          "output_type": "execute_result"
        }
      ],
      "source": [
        "model.fit(\n",
        "    X_train,\n",
        "    y_train,\n",
        "    epochs=1000,\n",
        "    batch_size=128,\n",
        "    validation_data=(X_test, y_test),\n",
        "    callbacks=[cp_callback, es_callback]\n",
        ")"
      ]
    },
    {
      "cell_type": "code",
      "execution_count": 12,
      "metadata": {
        "colab": {
          "base_uri": "https://localhost:8080/"
        },
        "id": "pxvb2Y299hE3",
        "outputId": "59eb3185-2e37-4b9e-bc9d-ab1b8ac29b7f"
      },
      "outputs": [
        {
          "name": "stdout",
          "output_type": "stream",
          "text": [
            "12/12 [==============================] - 0s 908us/step - loss: 0.1025 - accuracy: 0.9503\n"
          ]
        }
      ],
      "source": [
        "# Model evaluation\n",
        "val_loss, val_acc = model.evaluate(X_test, y_test, batch_size=128)"
      ]
    },
    {
      "cell_type": "code",
      "execution_count": 13,
      "metadata": {
        "id": "RBkmDeUW9hE4"
      },
      "outputs": [],
      "source": [
        "# Loading the saved model\n",
        "model = tf.keras.models.load_model(model_save_path)"
      ]
    },
    {
      "cell_type": "code",
      "execution_count": 14,
      "metadata": {
        "colab": {
          "base_uri": "https://localhost:8080/"
        },
        "id": "tFz9Tb0I9hE4",
        "outputId": "1c3b3528-54ae-4ee2-ab04-77429211cbef"
      },
      "outputs": [
        {
          "name": "stdout",
          "output_type": "stream",
          "text": [
            "[0.19822657 0.8017735 ]\n",
            "1\n"
          ]
        }
      ],
      "source": [
        "# Inference test\n",
        "predict_result = model.predict(np.array([X_test[0]]))\n",
        "print(np.squeeze(predict_result))\n",
        "print(np.argmax(np.squeeze(predict_result)))"
      ]
    },
    {
      "cell_type": "markdown",
      "metadata": {
        "id": "S3U4yNWx9hE4"
      },
      "source": [
        "# Confusion matrix"
      ]
    },
    {
      "cell_type": "code",
      "execution_count": 15,
      "metadata": {
        "colab": {
          "base_uri": "https://localhost:8080/",
          "height": 582
        },
        "id": "AP1V6SCk9hE5",
        "outputId": "08e41a80-7a4a-4619-8125-ecc371368d19"
      },
      "outputs": [
        {
          "data": {
            "image/png": "[encoded data removed]",
            "text/plain": [
              "<Figure size 700x600 with 2 Axes>"
            ]
          },
          "metadata": {},
          "output_type": "display_data"
        },
        {
          "name": "stdout",
          "output_type": "stream",
          "text": [
            "Classification Report\n",
            "              precision    recall  f1-score   support\n",
            "\n",
            "           0       0.99      0.92      0.95       811\n",
            "           1       0.91      0.99      0.95       659\n",
            "\n",
            "    accuracy                           0.95      1470\n",
            "   macro avg       0.95      0.95      0.95      1470\n",
            "weighted avg       0.95      0.95      0.95      1470\n",
            "\n"
          ]
        }
      ],
      "source": [
        "import pandas as pd\n",
        "import seaborn as sns\n",
        "import matplotlib.pyplot as plt\n",
        "from sklearn.metrics import confusion_matrix, classification_report\n",
        "\n",
        "def print_confusion_matrix(y_true, y_pred, report=True):\n",
        "    labels = sorted(list(set(y_true)))\n",
        "    cmx_data = confusion_matrix(y_true, y_pred, labels=labels)\n",
        "    \n",
        "    df_cmx = pd.DataFrame(cmx_data, index=labels, columns=labels)\n",
        " \n",
        "    fig, ax = plt.subplots(figsize=(7, 6))\n",
        "    sns.heatmap(df_cmx, annot=True, fmt='g' ,square=False)\n",
        "    ax.set_ylim(len(set(y_true)), 0)\n",
        "    plt.show()\n",
        "    \n",
        "    if report:\n",
        "        print('Classification Report')\n",
        "        print(classification_report(y_test, y_pred))\n",
        "\n",
        "Y_pred = model.predict(X_test)\n",
        "y_pred = np.argmax(Y_pred, axis=1)\n",
        "\n",
        "print_confusion_matrix(y_test, y_pred)"
      ]
    },
    {
      "cell_type": "markdown",
      "metadata": {
        "id": "FNP6aqzc9hE5"
      },
      "source": [
        "# Convert to model for Tensorflow-Lite"
      ]
    },
    {
      "cell_type": "code",
      "execution_count": 16,
      "metadata": {
        "id": "ODjnYyld9hE6"
      },
      "outputs": [],
      "source": [
        "# Save as a model dedicated to inference\n",
        "model.save(model_save_path, include_optimizer=False)"
      ]
    },
    {
      "cell_type": "code",
      "execution_count": 17,
      "metadata": {
        "colab": {
          "base_uri": "https://localhost:8080/"
        },
        "id": "zRfuK8Y59hE6",
        "outputId": "a4ca585c-b5d5-4244-8291-8674063209bb"
      },
      "outputs": [
        {
          "name": "stderr",
          "output_type": "stream",
          "text": [
            "2023-05-02 02:04:33.228466: W tensorflow/python/util/util.cc:368] Sets are not currently considered sequences, but this may change in the future, so consider avoiding using them.\n"
          ]
        },
        {
          "name": "stdout",
          "output_type": "stream",
          "text": [
            "INFO:tensorflow:Assets written to: /tmp/tmp0ci9ad43/assets\n"
          ]
        },
        {
          "name": "stderr",
          "output_type": "stream",
          "text": [
            "2023-05-02 02:04:33.872339: W tensorflow/compiler/mlir/lite/python/tf_tfl_flatbuffer_helpers.cc:357] Ignored output_format.\n",
            "2023-05-02 02:04:33.872369: W tensorflow/compiler/mlir/lite/python/tf_tfl_flatbuffer_helpers.cc:360] Ignored drop_control_dependency.\n",
            "2023-05-02 02:04:33.873499: I tensorflow/cc/saved_model/reader.cc:43] Reading SavedModel from: /tmp/tmp0ci9ad43\n",
            "2023-05-02 02:04:33.875345: I tensorflow/cc/saved_model/reader.cc:78] Reading meta graph with tags { serve }\n",
            "2023-05-02 02:04:33.875403: I tensorflow/cc/saved_model/reader.cc:119] Reading SavedModel debug info (if present) from: /tmp/tmp0ci9ad43\n",
            "2023-05-02 02:04:33.880704: I tensorflow/cc/saved_model/loader.cc:228] Restoring SavedModel bundle.\n",
            "2023-05-02 02:04:33.913068: I tensorflow/cc/saved_model/loader.cc:212] Running initialization op on SavedModel bundle at path: /tmp/tmp0ci9ad43\n",
            "2023-05-02 02:04:33.922582: I tensorflow/cc/saved_model/loader.cc:301] SavedModel load for tags { serve }; Status: success: OK. Took 49089 microseconds.\n",
            "2023-05-02 02:04:33.950213: I tensorflow/compiler/mlir/tensorflow/utils/dump_mlir_util.cc:237] disabling MLIR crash reproducer, set env var `MLIR_CRASH_REPRODUCER_DIRECTORY` to enable.\n",
            "2023-05-02 02:04:34.006277: I tensorflow/lite/tools/optimize/quantize_weights.cc:225] Skipping quantization of tensor sequential/dense/MatMul because it has fewer than 1024 elements (840).\n",
            "2023-05-02 02:04:34.006324: I tensorflow/lite/tools/optimize/quantize_weights.cc:225] Skipping quantization of tensor sequential/dense_1/MatMul because it has fewer than 1024 elements (200).\n",
            "2023-05-02 02:04:34.006327: I tensorflow/lite/tools/optimize/quantize_weights.cc:225] Skipping quantization of tensor sequential/dense_2/MatMul because it has fewer than 1024 elements (20).\n"
          ]
        },
        {
          "data": {
            "text/plain": [
              "6188"
            ]
          },
          "execution_count": 17,
          "metadata": {},
          "output_type": "execute_result"
        }
      ],
      "source": [
        "# Transform model (quantization)\n",
        "\n",
        "converter = tf.lite.TFLiteConverter.from_keras_model(model)\n",
        "converter.optimizations = [tf.lite.Optimize.DEFAULT]\n",
        "tflite_quantized_model = converter.convert()\n",
        "\n",
        "open(tflite_save_path, 'wb').write(tflite_quantized_model)"
      ]
    },
    {
      "cell_type": "markdown",
      "metadata": {
        "id": "CHBPBXdx9hE6"
      },
      "source": [
        "# Inference test"
      ]
    },
    {
      "cell_type": "code",
      "execution_count": 18,
      "metadata": {
        "id": "mGAzLocO9hE7"
      },
      "outputs": [
        {
          "name": "stderr",
          "output_type": "stream",
          "text": [
            "INFO: Created TensorFlow Lite XNNPACK delegate for CPU.\n"
          ]
        }
      ],
      "source": [
        "interpreter = tf.lite.Interpreter(model_path=tflite_save_path)\n",
        "interpreter.allocate_tensors()"
      ]
    },
    {
      "cell_type": "code",
      "execution_count": 19,
      "metadata": {
        "id": "oQuDK8YS9hE7"
      },
      "outputs": [],
      "source": [
        "# Get I / O tensor\n",
        "input_details = interpreter.get_input_details()\n",
        "output_details = interpreter.get_output_details()"
      ]
    },
    {
      "cell_type": "code",
      "execution_count": 20,
      "metadata": {
        "id": "2_ixAf_l9hE7"
      },
      "outputs": [],
      "source": [
        "interpreter.set_tensor(input_details[0]['index'], np.array([X_test[0]]))"
      ]
    },
    {
      "cell_type": "code",
      "execution_count": 21,
      "metadata": {
        "colab": {
          "base_uri": "https://localhost:8080/"
        },
        "id": "s4FoAnuc9hE7",
        "outputId": "91f18257-8d8b-4ef3-c558-e9b5f94fabbf",
        "scrolled": true
      },
      "outputs": [
        {
          "name": "stdout",
          "output_type": "stream",
          "text": [
            "CPU times: user 39 µs, sys: 4 µs, total: 43 µs\n",
            "Wall time: 46.3 µs\n"
          ]
        }
      ],
      "source": [
        "%%time\n",
        "# Inference implementation\n",
        "interpreter.invoke()\n",
        "tflite_results = interpreter.get_tensor(output_details[0]['index'])"
      ]
    },
    {
      "cell_type": "code",
      "execution_count": 22,
      "metadata": {
        "colab": {
          "base_uri": "https://localhost:8080/"
        },
        "id": "vONjp19J9hE8",
        "outputId": "77205e24-fd00-42c4-f7b6-e06e527c2cba"
      },
      "outputs": [
        {
          "name": "stdout",
          "output_type": "stream",
          "text": [
            "[0.19822654 0.8017735 ]\n",
            "1\n"
          ]
        }
      ],
      "source": [
        "print(np.squeeze(tflite_results))\n",
        "print(np.argmax(np.squeeze(tflite_results)))"
      ]
    }
  ],
  "metadata": {
    "accelerator": "GPU",
    "colab": {
      "collapsed_sections": [],
      "name": "keypoint_classification_EN.ipynb",
      "provenance": [],
      "toc_visible": true
    },
    "kernelspec": {
      "display_name": "Python 3",
      "language": "python",
      "name": "python3"
    },
    "language_info": {
      "codemirror_mode": {
        "name": "ipython",
        "version": 3
      },
      "file_extension": ".py",
      "mimetype": "text/x-python",
      "name": "python",
      "nbconvert_exporter": "python",
      "pygments_lexer": "ipython3",
      "version": "3.10.6"
    }
  },
  "nbformat": 4,
  "nbformat_minor": 0
}
